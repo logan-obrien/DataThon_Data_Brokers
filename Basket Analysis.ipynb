{
 "cells": [
  {
   "cell_type": "code",
   "execution_count": 1,
   "id": "b19877de",
   "metadata": {},
   "outputs": [],
   "source": [
    "import numpy as np\n",
    "import pandas as pd\n",
    "from math import isnan\n",
    "from sklearn import preprocessing\n",
    "from sklearn.impute import KNNImputer, SimpleImputer\n",
    "from sklearn.linear_model import LinearRegression\n",
    "from sklearn.linear_model import LogisticRegression\n",
    "from sklearn.pipeline import make_pipeline\n",
    "from sklearn.preprocessing import StandardScaler"
   ]
  },
  {
   "cell_type": "code",
   "execution_count": 2,
   "id": "a70c252a",
   "metadata": {},
   "outputs": [],
   "source": [
    "df = pd.read_csv(\"C://Users//arjun//Clean_data.csv\")"
   ]
  },
  {
   "cell_type": "code",
   "execution_count": 3,
   "id": "211bf2b7",
   "metadata": {},
   "outputs": [
    {
     "data": {
      "text/plain": [
       "Index(['month', 'hour', 'item_code', 'item_name', 'quantity', 'payment_type',\n",
       "       'unit_buying_price', 'unit_selling_price', 'unit_price_margin',\n",
       "       'total_buying_price', 'total_selling_price', 'total_profit', 'Date',\n",
       "       'Time', 'main_category', 'sub_category', 'Day', 'Month', 'Year',\n",
       "       'receipt_id'],\n",
       "      dtype='object')"
      ]
     },
     "execution_count": 3,
     "metadata": {},
     "output_type": "execute_result"
    }
   ],
   "source": [
    "df.columns"
   ]
  },
  {
   "cell_type": "code",
   "execution_count": 4,
   "id": "8e6e9377",
   "metadata": {},
   "outputs": [],
   "source": [
    "df2 = df"
   ]
  },
  {
   "cell_type": "code",
   "execution_count": 5,
   "id": "25063c41",
   "metadata": {},
   "outputs": [],
   "source": [
    "df3 = df2.groupby(['receipt_id']).count()"
   ]
  },
  {
   "cell_type": "code",
   "execution_count": 6,
   "id": "e7b5a6c5",
   "metadata": {},
   "outputs": [],
   "source": [
    "df3['receipt'] = df3.index"
   ]
  },
  {
   "cell_type": "code",
   "execution_count": 7,
   "id": "469688f6",
   "metadata": {},
   "outputs": [],
   "source": [
    "df3 = df3.reset_index()"
   ]
  },
  {
   "cell_type": "code",
   "execution_count": 8,
   "id": "1c297ed6",
   "metadata": {},
   "outputs": [],
   "source": [
    "df4 = pd.DataFrame([])"
   ]
  },
  {
   "cell_type": "code",
   "execution_count": 9,
   "id": "1ac69682",
   "metadata": {},
   "outputs": [],
   "source": [
    "df4[['receipt_id', 'item_count']] = df3[['receipt', 'hour']]"
   ]
  },
  {
   "cell_type": "code",
   "execution_count": 10,
   "id": "2f2b89ac",
   "metadata": {},
   "outputs": [
    {
     "data": {
      "text/html": [
       "<div>\n",
       "<style scoped>\n",
       "    .dataframe tbody tr th:only-of-type {\n",
       "        vertical-align: middle;\n",
       "    }\n",
       "\n",
       "    .dataframe tbody tr th {\n",
       "        vertical-align: top;\n",
       "    }\n",
       "\n",
       "    .dataframe thead th {\n",
       "        text-align: right;\n",
       "    }\n",
       "</style>\n",
       "<table border=\"1\" class=\"dataframe\">\n",
       "  <thead>\n",
       "    <tr style=\"text-align: right;\">\n",
       "      <th></th>\n",
       "      <th>receipt_id</th>\n",
       "      <th>item_count</th>\n",
       "    </tr>\n",
       "  </thead>\n",
       "  <tbody>\n",
       "    <tr>\n",
       "      <th>0</th>\n",
       "      <td>0001c063-2d32-4380-9db6-de20c5b48f59</td>\n",
       "      <td>2</td>\n",
       "    </tr>\n",
       "    <tr>\n",
       "      <th>1</th>\n",
       "      <td>0002a81e-5e13-4e0f-95fd-2f4a46c997fb</td>\n",
       "      <td>5</td>\n",
       "    </tr>\n",
       "    <tr>\n",
       "      <th>2</th>\n",
       "      <td>0002d6fc-1efa-43de-ba27-a683a1ee7ab8</td>\n",
       "      <td>3</td>\n",
       "    </tr>\n",
       "    <tr>\n",
       "      <th>3</th>\n",
       "      <td>000321da-e88c-4156-ab78-ea46cbf178ed</td>\n",
       "      <td>3</td>\n",
       "    </tr>\n",
       "    <tr>\n",
       "      <th>4</th>\n",
       "      <td>00032d46-cf9e-4b0b-b003-2f6bb5ab3e85</td>\n",
       "      <td>1</td>\n",
       "    </tr>\n",
       "    <tr>\n",
       "      <th>...</th>\n",
       "      <td>...</td>\n",
       "      <td>...</td>\n",
       "    </tr>\n",
       "    <tr>\n",
       "      <th>99022</th>\n",
       "      <td>fffdf03b-eea7-487e-b298-44fd3f1189fa</td>\n",
       "      <td>4</td>\n",
       "    </tr>\n",
       "    <tr>\n",
       "      <th>99023</th>\n",
       "      <td>fffe5373-ab7d-40b3-9821-28334f34306c</td>\n",
       "      <td>1</td>\n",
       "    </tr>\n",
       "    <tr>\n",
       "      <th>99024</th>\n",
       "      <td>fffe8a4a-313d-4817-a94f-680cc27111fe</td>\n",
       "      <td>6</td>\n",
       "    </tr>\n",
       "    <tr>\n",
       "      <th>99025</th>\n",
       "      <td>fffee230-046f-4ad5-92e3-ef935ddc926d</td>\n",
       "      <td>1</td>\n",
       "    </tr>\n",
       "    <tr>\n",
       "      <th>99026</th>\n",
       "      <td>ffff062a-d847-4c6f-821e-8453fbaa8b90</td>\n",
       "      <td>3</td>\n",
       "    </tr>\n",
       "  </tbody>\n",
       "</table>\n",
       "<p>99027 rows × 2 columns</p>\n",
       "</div>"
      ],
      "text/plain": [
       "                                 receipt_id  item_count\n",
       "0      0001c063-2d32-4380-9db6-de20c5b48f59           2\n",
       "1      0002a81e-5e13-4e0f-95fd-2f4a46c997fb           5\n",
       "2      0002d6fc-1efa-43de-ba27-a683a1ee7ab8           3\n",
       "3      000321da-e88c-4156-ab78-ea46cbf178ed           3\n",
       "4      00032d46-cf9e-4b0b-b003-2f6bb5ab3e85           1\n",
       "...                                     ...         ...\n",
       "99022  fffdf03b-eea7-487e-b298-44fd3f1189fa           4\n",
       "99023  fffe5373-ab7d-40b3-9821-28334f34306c           1\n",
       "99024  fffe8a4a-313d-4817-a94f-680cc27111fe           6\n",
       "99025  fffee230-046f-4ad5-92e3-ef935ddc926d           1\n",
       "99026  ffff062a-d847-4c6f-821e-8453fbaa8b90           3\n",
       "\n",
       "[99027 rows x 2 columns]"
      ]
     },
     "execution_count": 10,
     "metadata": {},
     "output_type": "execute_result"
    }
   ],
   "source": [
    "df4"
   ]
  },
  {
   "cell_type": "code",
   "execution_count": 11,
   "id": "4e8dd72c",
   "metadata": {},
   "outputs": [],
   "source": [
    "#df2['basket_count'] = df3['month'].to_int()\n",
    "df2['basket_count'] = df3['month'].apply(pd.to_numeric)"
   ]
  },
  {
   "cell_type": "code",
   "execution_count": 12,
   "id": "17f0e3c5",
   "metadata": {},
   "outputs": [
    {
     "data": {
      "text/html": [
       "<div>\n",
       "<style scoped>\n",
       "    .dataframe tbody tr th:only-of-type {\n",
       "        vertical-align: middle;\n",
       "    }\n",
       "\n",
       "    .dataframe tbody tr th {\n",
       "        vertical-align: top;\n",
       "    }\n",
       "\n",
       "    .dataframe thead th {\n",
       "        text-align: right;\n",
       "    }\n",
       "</style>\n",
       "<table border=\"1\" class=\"dataframe\">\n",
       "  <thead>\n",
       "    <tr style=\"text-align: right;\">\n",
       "      <th></th>\n",
       "      <th>month</th>\n",
       "      <th>hour</th>\n",
       "      <th>item_code</th>\n",
       "      <th>item_name</th>\n",
       "      <th>quantity</th>\n",
       "      <th>payment_type</th>\n",
       "      <th>unit_buying_price</th>\n",
       "      <th>unit_selling_price</th>\n",
       "      <th>unit_price_margin</th>\n",
       "      <th>total_buying_price</th>\n",
       "      <th>...</th>\n",
       "      <th>total_profit</th>\n",
       "      <th>Date</th>\n",
       "      <th>Time</th>\n",
       "      <th>main_category</th>\n",
       "      <th>sub_category</th>\n",
       "      <th>Day</th>\n",
       "      <th>Month</th>\n",
       "      <th>Year</th>\n",
       "      <th>receipt_id</th>\n",
       "      <th>basket_count</th>\n",
       "    </tr>\n",
       "  </thead>\n",
       "  <tbody>\n",
       "    <tr>\n",
       "      <th>0</th>\n",
       "      <td>7</td>\n",
       "      <td>8</td>\n",
       "      <td>2025.0</td>\n",
       "      <td>Kiwi fruit Green</td>\n",
       "      <td>0.546</td>\n",
       "      <td>cash</td>\n",
       "      <td>0.0</td>\n",
       "      <td>5.5</td>\n",
       "      <td>5.5</td>\n",
       "      <td>0.0</td>\n",
       "      <td>...</td>\n",
       "      <td>3.003</td>\n",
       "      <td>19-07-2018</td>\n",
       "      <td>08:40:13</td>\n",
       "      <td>Fresh Produce</td>\n",
       "      <td>Other Fruits</td>\n",
       "      <td>19</td>\n",
       "      <td>7</td>\n",
       "      <td>2018</td>\n",
       "      <td>c5341571-9ead-49bf-ae6d-3a7ddfbd0e31</td>\n",
       "      <td>2.0</td>\n",
       "    </tr>\n",
       "    <tr>\n",
       "      <th>1</th>\n",
       "      <td>6</td>\n",
       "      <td>16</td>\n",
       "      <td>2025.0</td>\n",
       "      <td>Kiwi fruit Green</td>\n",
       "      <td>0.546</td>\n",
       "      <td>cash</td>\n",
       "      <td>0.0</td>\n",
       "      <td>5.5</td>\n",
       "      <td>5.5</td>\n",
       "      <td>0.0</td>\n",
       "      <td>...</td>\n",
       "      <td>3.003</td>\n",
       "      <td>15-06-2018</td>\n",
       "      <td>16:01:07</td>\n",
       "      <td>Fresh Produce</td>\n",
       "      <td>Other Fruits</td>\n",
       "      <td>15</td>\n",
       "      <td>6</td>\n",
       "      <td>2018</td>\n",
       "      <td>f6d66747-85e2-4b43-99c3-3fc324ea02f7</td>\n",
       "      <td>5.0</td>\n",
       "    </tr>\n",
       "    <tr>\n",
       "      <th>2</th>\n",
       "      <td>9</td>\n",
       "      <td>9</td>\n",
       "      <td>2025.0</td>\n",
       "      <td>Kiwi fruit Green</td>\n",
       "      <td>0.548</td>\n",
       "      <td>cash</td>\n",
       "      <td>0.0</td>\n",
       "      <td>5.5</td>\n",
       "      <td>5.5</td>\n",
       "      <td>0.0</td>\n",
       "      <td>...</td>\n",
       "      <td>3.014</td>\n",
       "      <td>18-09-2018</td>\n",
       "      <td>09:01:37</td>\n",
       "      <td>Fresh Produce</td>\n",
       "      <td>Other Fruits</td>\n",
       "      <td>18</td>\n",
       "      <td>9</td>\n",
       "      <td>2018</td>\n",
       "      <td>5757fe87-17b3-44ff-ae49-7548cd156998</td>\n",
       "      <td>3.0</td>\n",
       "    </tr>\n",
       "    <tr>\n",
       "      <th>3</th>\n",
       "      <td>8</td>\n",
       "      <td>12</td>\n",
       "      <td>2025.0</td>\n",
       "      <td>Kiwi fruit Green</td>\n",
       "      <td>0.548</td>\n",
       "      <td>cash</td>\n",
       "      <td>0.0</td>\n",
       "      <td>5.5</td>\n",
       "      <td>5.5</td>\n",
       "      <td>0.0</td>\n",
       "      <td>...</td>\n",
       "      <td>3.014</td>\n",
       "      <td>14-08-2018</td>\n",
       "      <td>12:36:46</td>\n",
       "      <td>Fresh Produce</td>\n",
       "      <td>Other Fruits</td>\n",
       "      <td>14</td>\n",
       "      <td>8</td>\n",
       "      <td>2018</td>\n",
       "      <td>ccfec4ae-e68f-4f7f-a15d-486b98acbd09</td>\n",
       "      <td>3.0</td>\n",
       "    </tr>\n",
       "    <tr>\n",
       "      <th>4</th>\n",
       "      <td>6</td>\n",
       "      <td>17</td>\n",
       "      <td>2025.0</td>\n",
       "      <td>Kiwi fruit Green</td>\n",
       "      <td>0.550</td>\n",
       "      <td>cash</td>\n",
       "      <td>0.0</td>\n",
       "      <td>5.5</td>\n",
       "      <td>5.5</td>\n",
       "      <td>0.0</td>\n",
       "      <td>...</td>\n",
       "      <td>3.025</td>\n",
       "      <td>19-06-2018</td>\n",
       "      <td>17:03:58</td>\n",
       "      <td>Fresh Produce</td>\n",
       "      <td>Other Fruits</td>\n",
       "      <td>19</td>\n",
       "      <td>6</td>\n",
       "      <td>2018</td>\n",
       "      <td>9a45dc36-f771-42a7-a343-fac1a8e58bb7</td>\n",
       "      <td>1.0</td>\n",
       "    </tr>\n",
       "    <tr>\n",
       "      <th>...</th>\n",
       "      <td>...</td>\n",
       "      <td>...</td>\n",
       "      <td>...</td>\n",
       "      <td>...</td>\n",
       "      <td>...</td>\n",
       "      <td>...</td>\n",
       "      <td>...</td>\n",
       "      <td>...</td>\n",
       "      <td>...</td>\n",
       "      <td>...</td>\n",
       "      <td>...</td>\n",
       "      <td>...</td>\n",
       "      <td>...</td>\n",
       "      <td>...</td>\n",
       "      <td>...</td>\n",
       "      <td>...</td>\n",
       "      <td>...</td>\n",
       "      <td>...</td>\n",
       "      <td>...</td>\n",
       "      <td>...</td>\n",
       "      <td>...</td>\n",
       "    </tr>\n",
       "    <tr>\n",
       "      <th>372752</th>\n",
       "      <td>12</td>\n",
       "      <td>12</td>\n",
       "      <td>1039.0</td>\n",
       "      <td>Ginger</td>\n",
       "      <td>0.112</td>\n",
       "      <td>cash</td>\n",
       "      <td>0.0</td>\n",
       "      <td>10.0</td>\n",
       "      <td>10.0</td>\n",
       "      <td>0.0</td>\n",
       "      <td>...</td>\n",
       "      <td>1.120</td>\n",
       "      <td>06-12-2017</td>\n",
       "      <td>12:36:35</td>\n",
       "      <td>Fresh Produce</td>\n",
       "      <td>Other Veggies</td>\n",
       "      <td>6</td>\n",
       "      <td>12</td>\n",
       "      <td>2017</td>\n",
       "      <td>b390d52e-e396-40f4-838b-ce7a668216f8</td>\n",
       "      <td>NaN</td>\n",
       "    </tr>\n",
       "    <tr>\n",
       "      <th>372753</th>\n",
       "      <td>12</td>\n",
       "      <td>14</td>\n",
       "      <td>1039.0</td>\n",
       "      <td>Ginger</td>\n",
       "      <td>0.114</td>\n",
       "      <td>cash</td>\n",
       "      <td>0.0</td>\n",
       "      <td>10.0</td>\n",
       "      <td>10.0</td>\n",
       "      <td>0.0</td>\n",
       "      <td>...</td>\n",
       "      <td>1.140</td>\n",
       "      <td>01-12-2017</td>\n",
       "      <td>14:17:07</td>\n",
       "      <td>Fresh Produce</td>\n",
       "      <td>Other Veggies</td>\n",
       "      <td>1</td>\n",
       "      <td>12</td>\n",
       "      <td>2017</td>\n",
       "      <td>8da840d9-aca1-42cc-b299-010e46adff1c</td>\n",
       "      <td>NaN</td>\n",
       "    </tr>\n",
       "    <tr>\n",
       "      <th>372754</th>\n",
       "      <td>12</td>\n",
       "      <td>18</td>\n",
       "      <td>1039.0</td>\n",
       "      <td>Ginger</td>\n",
       "      <td>0.116</td>\n",
       "      <td>cash</td>\n",
       "      <td>0.0</td>\n",
       "      <td>10.0</td>\n",
       "      <td>10.0</td>\n",
       "      <td>0.0</td>\n",
       "      <td>...</td>\n",
       "      <td>1.160</td>\n",
       "      <td>12-12-2017</td>\n",
       "      <td>18:50:55</td>\n",
       "      <td>Fresh Produce</td>\n",
       "      <td>Other Veggies</td>\n",
       "      <td>12</td>\n",
       "      <td>12</td>\n",
       "      <td>2017</td>\n",
       "      <td>3a58145b-7e7c-42a9-9f32-fb64961e43e1</td>\n",
       "      <td>NaN</td>\n",
       "    </tr>\n",
       "    <tr>\n",
       "      <th>372755</th>\n",
       "      <td>12</td>\n",
       "      <td>12</td>\n",
       "      <td>1039.0</td>\n",
       "      <td>Ginger</td>\n",
       "      <td>0.116</td>\n",
       "      <td>cash</td>\n",
       "      <td>0.0</td>\n",
       "      <td>10.0</td>\n",
       "      <td>10.0</td>\n",
       "      <td>0.0</td>\n",
       "      <td>...</td>\n",
       "      <td>1.160</td>\n",
       "      <td>19-12-2017</td>\n",
       "      <td>12:35:53</td>\n",
       "      <td>Fresh Produce</td>\n",
       "      <td>Other Veggies</td>\n",
       "      <td>19</td>\n",
       "      <td>12</td>\n",
       "      <td>2017</td>\n",
       "      <td>020fd6c4-d155-47cd-a904-2c9e78fa9f4a</td>\n",
       "      <td>NaN</td>\n",
       "    </tr>\n",
       "    <tr>\n",
       "      <th>372756</th>\n",
       "      <td>12</td>\n",
       "      <td>10</td>\n",
       "      <td>1039.0</td>\n",
       "      <td>Ginger</td>\n",
       "      <td>0.118</td>\n",
       "      <td>cash</td>\n",
       "      <td>0.0</td>\n",
       "      <td>10.0</td>\n",
       "      <td>10.0</td>\n",
       "      <td>0.0</td>\n",
       "      <td>...</td>\n",
       "      <td>1.180</td>\n",
       "      <td>12-12-2017</td>\n",
       "      <td>10:59:36</td>\n",
       "      <td>Fresh Produce</td>\n",
       "      <td>Other Veggies</td>\n",
       "      <td>12</td>\n",
       "      <td>12</td>\n",
       "      <td>2017</td>\n",
       "      <td>c3028a2d-b1d7-4155-ab7e-b95a0b4706fc</td>\n",
       "      <td>NaN</td>\n",
       "    </tr>\n",
       "  </tbody>\n",
       "</table>\n",
       "<p>372757 rows × 21 columns</p>\n",
       "</div>"
      ],
      "text/plain": [
       "        month  hour  item_code         item_name  quantity payment_type  \\\n",
       "0           7     8     2025.0  Kiwi fruit Green     0.546         cash   \n",
       "1           6    16     2025.0  Kiwi fruit Green     0.546         cash   \n",
       "2           9     9     2025.0  Kiwi fruit Green     0.548         cash   \n",
       "3           8    12     2025.0  Kiwi fruit Green     0.548         cash   \n",
       "4           6    17     2025.0  Kiwi fruit Green     0.550         cash   \n",
       "...       ...   ...        ...               ...       ...          ...   \n",
       "372752     12    12     1039.0            Ginger     0.112         cash   \n",
       "372753     12    14     1039.0            Ginger     0.114         cash   \n",
       "372754     12    18     1039.0            Ginger     0.116         cash   \n",
       "372755     12    12     1039.0            Ginger     0.116         cash   \n",
       "372756     12    10     1039.0            Ginger     0.118         cash   \n",
       "\n",
       "        unit_buying_price  unit_selling_price  unit_price_margin  \\\n",
       "0                     0.0                 5.5                5.5   \n",
       "1                     0.0                 5.5                5.5   \n",
       "2                     0.0                 5.5                5.5   \n",
       "3                     0.0                 5.5                5.5   \n",
       "4                     0.0                 5.5                5.5   \n",
       "...                   ...                 ...                ...   \n",
       "372752                0.0                10.0               10.0   \n",
       "372753                0.0                10.0               10.0   \n",
       "372754                0.0                10.0               10.0   \n",
       "372755                0.0                10.0               10.0   \n",
       "372756                0.0                10.0               10.0   \n",
       "\n",
       "        total_buying_price  ...  total_profit        Date       Time  \\\n",
       "0                      0.0  ...         3.003  19-07-2018   08:40:13   \n",
       "1                      0.0  ...         3.003  15-06-2018   16:01:07   \n",
       "2                      0.0  ...         3.014  18-09-2018   09:01:37   \n",
       "3                      0.0  ...         3.014  14-08-2018   12:36:46   \n",
       "4                      0.0  ...         3.025  19-06-2018   17:03:58   \n",
       "...                    ...  ...           ...         ...        ...   \n",
       "372752                 0.0  ...         1.120  06-12-2017   12:36:35   \n",
       "372753                 0.0  ...         1.140  01-12-2017   14:17:07   \n",
       "372754                 0.0  ...         1.160  12-12-2017   18:50:55   \n",
       "372755                 0.0  ...         1.160  19-12-2017   12:35:53   \n",
       "372756                 0.0  ...         1.180  12-12-2017   10:59:36   \n",
       "\n",
       "        main_category   sub_category Day  Month  Year  \\\n",
       "0       Fresh Produce   Other Fruits  19      7  2018   \n",
       "1       Fresh Produce   Other Fruits  15      6  2018   \n",
       "2       Fresh Produce   Other Fruits  18      9  2018   \n",
       "3       Fresh Produce   Other Fruits  14      8  2018   \n",
       "4       Fresh Produce   Other Fruits  19      6  2018   \n",
       "...               ...            ...  ..    ...   ...   \n",
       "372752  Fresh Produce  Other Veggies   6     12  2017   \n",
       "372753  Fresh Produce  Other Veggies   1     12  2017   \n",
       "372754  Fresh Produce  Other Veggies  12     12  2017   \n",
       "372755  Fresh Produce  Other Veggies  19     12  2017   \n",
       "372756  Fresh Produce  Other Veggies  12     12  2017   \n",
       "\n",
       "                                  receipt_id basket_count  \n",
       "0       c5341571-9ead-49bf-ae6d-3a7ddfbd0e31          2.0  \n",
       "1       f6d66747-85e2-4b43-99c3-3fc324ea02f7          5.0  \n",
       "2       5757fe87-17b3-44ff-ae49-7548cd156998          3.0  \n",
       "3       ccfec4ae-e68f-4f7f-a15d-486b98acbd09          3.0  \n",
       "4       9a45dc36-f771-42a7-a343-fac1a8e58bb7          1.0  \n",
       "...                                      ...          ...  \n",
       "372752  b390d52e-e396-40f4-838b-ce7a668216f8          NaN  \n",
       "372753  8da840d9-aca1-42cc-b299-010e46adff1c          NaN  \n",
       "372754  3a58145b-7e7c-42a9-9f32-fb64961e43e1          NaN  \n",
       "372755  020fd6c4-d155-47cd-a904-2c9e78fa9f4a          NaN  \n",
       "372756  c3028a2d-b1d7-4155-ab7e-b95a0b4706fc          NaN  \n",
       "\n",
       "[372757 rows x 21 columns]"
      ]
     },
     "execution_count": 12,
     "metadata": {},
     "output_type": "execute_result"
    }
   ],
   "source": [
    "df2"
   ]
  },
  {
   "cell_type": "code",
   "execution_count": 13,
   "id": "79c73ba7",
   "metadata": {},
   "outputs": [],
   "source": [
    "# sales over time\n",
    "# df4 has item counts and receipt_id\n",
    "# Df is the entire data\n",
    "\n",
    "df_time = pd.merge(df4, df, on='receipt_id', how='inner')"
   ]
  },
  {
   "cell_type": "code",
   "execution_count": 14,
   "id": "aec4fb08",
   "metadata": {},
   "outputs": [
    {
     "data": {
      "text/plain": [
       "Index(['receipt_id', 'item_count', 'month', 'hour', 'item_code', 'item_name',\n",
       "       'quantity', 'payment_type', 'unit_buying_price', 'unit_selling_price',\n",
       "       'unit_price_margin', 'total_buying_price', 'total_selling_price',\n",
       "       'total_profit', 'Date', 'Time', 'main_category', 'sub_category', 'Day',\n",
       "       'Month', 'Year', 'basket_count'],\n",
       "      dtype='object')"
      ]
     },
     "execution_count": 14,
     "metadata": {},
     "output_type": "execute_result"
    }
   ],
   "source": [
    "df_time.columns"
   ]
  },
  {
   "cell_type": "code",
   "execution_count": 15,
   "id": "9c977af2",
   "metadata": {},
   "outputs": [],
   "source": [
    "df_time = df_time[['receipt_id', 'month', 'hour', 'Year', 'item_count', 'Date', 'Time']]"
   ]
  },
  {
   "cell_type": "code",
   "execution_count": 16,
   "id": "5f311769",
   "metadata": {},
   "outputs": [
    {
     "data": {
      "text/plain": [
       "(372757, 7)"
      ]
     },
     "execution_count": 16,
     "metadata": {},
     "output_type": "execute_result"
    }
   ],
   "source": [
    "df_time.shape"
   ]
  },
  {
   "cell_type": "code",
   "execution_count": 17,
   "id": "a4c69e8d",
   "metadata": {},
   "outputs": [],
   "source": [
    "a = df_time.drop_duplicates()"
   ]
  },
  {
   "cell_type": "code",
   "execution_count": 18,
   "id": "f5c5dd44",
   "metadata": {},
   "outputs": [],
   "source": [
    "a.to_csv(\"C://Users//arjun//Desktop//Dubshack//Questions//basket_analysis.csv\", index = False)"
   ]
  },
  {
   "cell_type": "code",
   "execution_count": 19,
   "id": "93961a90",
   "metadata": {},
   "outputs": [],
   "source": [
    "import matplotlib.pyplot as plt\n",
    "%matplotlib inline"
   ]
  },
  {
   "cell_type": "code",
   "execution_count": 20,
   "id": "de36103f",
   "metadata": {},
   "outputs": [],
   "source": [
    "df_time_basket = a.groupby(['hour']).mean()"
   ]
  },
  {
   "cell_type": "code",
   "execution_count": 21,
   "id": "ad6a6be1",
   "metadata": {},
   "outputs": [
    {
     "data": {
      "text/html": [
       "<div>\n",
       "<style scoped>\n",
       "    .dataframe tbody tr th:only-of-type {\n",
       "        vertical-align: middle;\n",
       "    }\n",
       "\n",
       "    .dataframe tbody tr th {\n",
       "        vertical-align: top;\n",
       "    }\n",
       "\n",
       "    .dataframe thead th {\n",
       "        text-align: right;\n",
       "    }\n",
       "</style>\n",
       "<table border=\"1\" class=\"dataframe\">\n",
       "  <thead>\n",
       "    <tr style=\"text-align: right;\">\n",
       "      <th></th>\n",
       "      <th>month</th>\n",
       "      <th>Year</th>\n",
       "      <th>item_count</th>\n",
       "    </tr>\n",
       "    <tr>\n",
       "      <th>hour</th>\n",
       "      <th></th>\n",
       "      <th></th>\n",
       "      <th></th>\n",
       "    </tr>\n",
       "  </thead>\n",
       "  <tbody>\n",
       "    <tr>\n",
       "      <th>0</th>\n",
       "      <td>2.164574</td>\n",
       "      <td>2017.000000</td>\n",
       "      <td>3.482960</td>\n",
       "    </tr>\n",
       "    <tr>\n",
       "      <th>1</th>\n",
       "      <td>2.199027</td>\n",
       "      <td>2017.000000</td>\n",
       "      <td>3.462412</td>\n",
       "    </tr>\n",
       "    <tr>\n",
       "      <th>2</th>\n",
       "      <td>2.200105</td>\n",
       "      <td>2017.000000</td>\n",
       "      <td>3.538340</td>\n",
       "    </tr>\n",
       "    <tr>\n",
       "      <th>3</th>\n",
       "      <td>2.228099</td>\n",
       "      <td>2017.000000</td>\n",
       "      <td>3.300826</td>\n",
       "    </tr>\n",
       "    <tr>\n",
       "      <th>4</th>\n",
       "      <td>2.175559</td>\n",
       "      <td>2017.000000</td>\n",
       "      <td>3.409639</td>\n",
       "    </tr>\n",
       "    <tr>\n",
       "      <th>5</th>\n",
       "      <td>2.156463</td>\n",
       "      <td>2017.000000</td>\n",
       "      <td>3.333333</td>\n",
       "    </tr>\n",
       "    <tr>\n",
       "      <th>6</th>\n",
       "      <td>2.033622</td>\n",
       "      <td>2017.000000</td>\n",
       "      <td>3.476465</td>\n",
       "    </tr>\n",
       "    <tr>\n",
       "      <th>7</th>\n",
       "      <td>2.695341</td>\n",
       "      <td>2017.146953</td>\n",
       "      <td>3.179211</td>\n",
       "    </tr>\n",
       "    <tr>\n",
       "      <th>8</th>\n",
       "      <td>7.260000</td>\n",
       "      <td>2017.578621</td>\n",
       "      <td>3.766897</td>\n",
       "    </tr>\n",
       "    <tr>\n",
       "      <th>9</th>\n",
       "      <td>6.928374</td>\n",
       "      <td>2017.562327</td>\n",
       "      <td>4.037594</td>\n",
       "    </tr>\n",
       "    <tr>\n",
       "      <th>10</th>\n",
       "      <td>6.850625</td>\n",
       "      <td>2017.520932</td>\n",
       "      <td>3.911419</td>\n",
       "    </tr>\n",
       "    <tr>\n",
       "      <th>11</th>\n",
       "      <td>6.885908</td>\n",
       "      <td>2017.524284</td>\n",
       "      <td>3.956218</td>\n",
       "    </tr>\n",
       "    <tr>\n",
       "      <th>12</th>\n",
       "      <td>6.844868</td>\n",
       "      <td>2017.534604</td>\n",
       "      <td>4.015491</td>\n",
       "    </tr>\n",
       "    <tr>\n",
       "      <th>13</th>\n",
       "      <td>6.854288</td>\n",
       "      <td>2017.537064</td>\n",
       "      <td>3.970930</td>\n",
       "    </tr>\n",
       "    <tr>\n",
       "      <th>14</th>\n",
       "      <td>7.047707</td>\n",
       "      <td>2017.558970</td>\n",
       "      <td>3.914751</td>\n",
       "    </tr>\n",
       "    <tr>\n",
       "      <th>15</th>\n",
       "      <td>7.152579</td>\n",
       "      <td>2017.571626</td>\n",
       "      <td>3.823584</td>\n",
       "    </tr>\n",
       "    <tr>\n",
       "      <th>16</th>\n",
       "      <td>6.969029</td>\n",
       "      <td>2017.586939</td>\n",
       "      <td>3.678576</td>\n",
       "    </tr>\n",
       "    <tr>\n",
       "      <th>17</th>\n",
       "      <td>7.083774</td>\n",
       "      <td>2017.589260</td>\n",
       "      <td>3.586162</td>\n",
       "    </tr>\n",
       "    <tr>\n",
       "      <th>18</th>\n",
       "      <td>7.073123</td>\n",
       "      <td>2017.559536</td>\n",
       "      <td>3.629694</td>\n",
       "    </tr>\n",
       "    <tr>\n",
       "      <th>19</th>\n",
       "      <td>7.195021</td>\n",
       "      <td>2017.356846</td>\n",
       "      <td>3.549793</td>\n",
       "    </tr>\n",
       "    <tr>\n",
       "      <th>20</th>\n",
       "      <td>2.103093</td>\n",
       "      <td>2017.000000</td>\n",
       "      <td>3.041237</td>\n",
       "    </tr>\n",
       "    <tr>\n",
       "      <th>21</th>\n",
       "      <td>2.214390</td>\n",
       "      <td>2017.000000</td>\n",
       "      <td>3.218023</td>\n",
       "    </tr>\n",
       "    <tr>\n",
       "      <th>22</th>\n",
       "      <td>2.169202</td>\n",
       "      <td>2017.000000</td>\n",
       "      <td>3.141540</td>\n",
       "    </tr>\n",
       "    <tr>\n",
       "      <th>23</th>\n",
       "      <td>2.188973</td>\n",
       "      <td>2017.000000</td>\n",
       "      <td>3.375421</td>\n",
       "    </tr>\n",
       "  </tbody>\n",
       "</table>\n",
       "</div>"
      ],
      "text/plain": [
       "         month         Year  item_count\n",
       "hour                                   \n",
       "0     2.164574  2017.000000    3.482960\n",
       "1     2.199027  2017.000000    3.462412\n",
       "2     2.200105  2017.000000    3.538340\n",
       "3     2.228099  2017.000000    3.300826\n",
       "4     2.175559  2017.000000    3.409639\n",
       "5     2.156463  2017.000000    3.333333\n",
       "6     2.033622  2017.000000    3.476465\n",
       "7     2.695341  2017.146953    3.179211\n",
       "8     7.260000  2017.578621    3.766897\n",
       "9     6.928374  2017.562327    4.037594\n",
       "10    6.850625  2017.520932    3.911419\n",
       "11    6.885908  2017.524284    3.956218\n",
       "12    6.844868  2017.534604    4.015491\n",
       "13    6.854288  2017.537064    3.970930\n",
       "14    7.047707  2017.558970    3.914751\n",
       "15    7.152579  2017.571626    3.823584\n",
       "16    6.969029  2017.586939    3.678576\n",
       "17    7.083774  2017.589260    3.586162\n",
       "18    7.073123  2017.559536    3.629694\n",
       "19    7.195021  2017.356846    3.549793\n",
       "20    2.103093  2017.000000    3.041237\n",
       "21    2.214390  2017.000000    3.218023\n",
       "22    2.169202  2017.000000    3.141540\n",
       "23    2.188973  2017.000000    3.375421"
      ]
     },
     "execution_count": 21,
     "metadata": {},
     "output_type": "execute_result"
    }
   ],
   "source": [
    "df_time_basket"
   ]
  },
  {
   "cell_type": "code",
   "execution_count": 22,
   "id": "1b7f75da",
   "metadata": {},
   "outputs": [
    {
     "data": {
      "text/plain": [
       "Int64Index([ 0,  1,  2,  3,  4,  5,  6,  7,  8,  9, 10, 11, 12, 13, 14, 15, 16,\n",
       "            17, 18, 19, 20, 21, 22, 23],\n",
       "           dtype='int64', name='hour')"
      ]
     },
     "execution_count": 22,
     "metadata": {},
     "output_type": "execute_result"
    }
   ],
   "source": [
    "df_time_basket.index"
   ]
  },
  {
   "cell_type": "code",
   "execution_count": 23,
   "id": "3966d4c1",
   "metadata": {},
   "outputs": [
    {
     "data": {
      "image/png": "[encoded data removed]",
      "text/plain": [
       "<Figure size 432x288 with 1 Axes>"
      ]
     },
     "metadata": {
      "needs_background": "light"
     },
     "output_type": "display_data"
    }
   ],
   "source": [
    "plt.plot(df_time_basket.index, df_time_basket['item_count'], label='Item Count')\n",
    "\n",
    "# Add labels and title\n",
    "plt.xlabel('Hour of the day')\n",
    "plt.ylabel('Item count')\n",
    "plt.title('Item count over the hour of the day')\n",
    "\n",
    "# Show the legend\n",
    "plt.legend()\n",
    "\n",
    "# Show the graph\n",
    "plt.show()"
   ]
  },
  {
   "cell_type": "code",
   "execution_count": 180,
   "id": "11771196",
   "metadata": {},
   "outputs": [],
   "source": [
    "df_2017 = a"
   ]
  },
  {
   "cell_type": "code",
   "execution_count": 181,
   "id": "9541a44b",
   "metadata": {},
   "outputs": [],
   "source": [
    "df_2017 = df_2017.groupby(['hour']).mean()"
   ]
  },
  {
   "cell_type": "code",
   "execution_count": 182,
   "id": "fbf661ec",
   "metadata": {},
   "outputs": [
    {
     "data": {
      "text/html": [
       "<div>\n",
       "<style scoped>\n",
       "    .dataframe tbody tr th:only-of-type {\n",
       "        vertical-align: middle;\n",
       "    }\n",
       "\n",
       "    .dataframe tbody tr th {\n",
       "        vertical-align: top;\n",
       "    }\n",
       "\n",
       "    .dataframe thead th {\n",
       "        text-align: right;\n",
       "    }\n",
       "</style>\n",
       "<table border=\"1\" class=\"dataframe\">\n",
       "  <thead>\n",
       "    <tr style=\"text-align: right;\">\n",
       "      <th></th>\n",
       "      <th>month</th>\n",
       "      <th>Year</th>\n",
       "      <th>item_count</th>\n",
       "    </tr>\n",
       "    <tr>\n",
       "      <th>hour</th>\n",
       "      <th></th>\n",
       "      <th></th>\n",
       "      <th></th>\n",
       "    </tr>\n",
       "  </thead>\n",
       "  <tbody>\n",
       "    <tr>\n",
       "      <th>0</th>\n",
       "      <td>2.164574</td>\n",
       "      <td>2017.000000</td>\n",
       "      <td>3.482960</td>\n",
       "    </tr>\n",
       "    <tr>\n",
       "      <th>1</th>\n",
       "      <td>2.199027</td>\n",
       "      <td>2017.000000</td>\n",
       "      <td>3.462412</td>\n",
       "    </tr>\n",
       "    <tr>\n",
       "      <th>2</th>\n",
       "      <td>2.200105</td>\n",
       "      <td>2017.000000</td>\n",
       "      <td>3.538340</td>\n",
       "    </tr>\n",
       "    <tr>\n",
       "      <th>3</th>\n",
       "      <td>2.228099</td>\n",
       "      <td>2017.000000</td>\n",
       "      <td>3.300826</td>\n",
       "    </tr>\n",
       "    <tr>\n",
       "      <th>4</th>\n",
       "      <td>2.175559</td>\n",
       "      <td>2017.000000</td>\n",
       "      <td>3.409639</td>\n",
       "    </tr>\n",
       "    <tr>\n",
       "      <th>5</th>\n",
       "      <td>2.156463</td>\n",
       "      <td>2017.000000</td>\n",
       "      <td>3.333333</td>\n",
       "    </tr>\n",
       "    <tr>\n",
       "      <th>6</th>\n",
       "      <td>2.033622</td>\n",
       "      <td>2017.000000</td>\n",
       "      <td>3.476465</td>\n",
       "    </tr>\n",
       "    <tr>\n",
       "      <th>7</th>\n",
       "      <td>2.695341</td>\n",
       "      <td>2017.146953</td>\n",
       "      <td>3.179211</td>\n",
       "    </tr>\n",
       "    <tr>\n",
       "      <th>8</th>\n",
       "      <td>7.260000</td>\n",
       "      <td>2017.578621</td>\n",
       "      <td>3.766897</td>\n",
       "    </tr>\n",
       "    <tr>\n",
       "      <th>9</th>\n",
       "      <td>6.928374</td>\n",
       "      <td>2017.562327</td>\n",
       "      <td>4.037594</td>\n",
       "    </tr>\n",
       "    <tr>\n",
       "      <th>10</th>\n",
       "      <td>6.850625</td>\n",
       "      <td>2017.520932</td>\n",
       "      <td>3.911419</td>\n",
       "    </tr>\n",
       "    <tr>\n",
       "      <th>11</th>\n",
       "      <td>6.885908</td>\n",
       "      <td>2017.524284</td>\n",
       "      <td>3.956218</td>\n",
       "    </tr>\n",
       "    <tr>\n",
       "      <th>12</th>\n",
       "      <td>6.844868</td>\n",
       "      <td>2017.534604</td>\n",
       "      <td>4.015491</td>\n",
       "    </tr>\n",
       "    <tr>\n",
       "      <th>13</th>\n",
       "      <td>6.854288</td>\n",
       "      <td>2017.537064</td>\n",
       "      <td>3.970930</td>\n",
       "    </tr>\n",
       "    <tr>\n",
       "      <th>14</th>\n",
       "      <td>7.047707</td>\n",
       "      <td>2017.558970</td>\n",
       "      <td>3.914751</td>\n",
       "    </tr>\n",
       "    <tr>\n",
       "      <th>15</th>\n",
       "      <td>7.152579</td>\n",
       "      <td>2017.571626</td>\n",
       "      <td>3.823584</td>\n",
       "    </tr>\n",
       "    <tr>\n",
       "      <th>16</th>\n",
       "      <td>6.969029</td>\n",
       "      <td>2017.586939</td>\n",
       "      <td>3.678576</td>\n",
       "    </tr>\n",
       "    <tr>\n",
       "      <th>17</th>\n",
       "      <td>7.083774</td>\n",
       "      <td>2017.589260</td>\n",
       "      <td>3.586162</td>\n",
       "    </tr>\n",
       "    <tr>\n",
       "      <th>18</th>\n",
       "      <td>7.073123</td>\n",
       "      <td>2017.559536</td>\n",
       "      <td>3.629694</td>\n",
       "    </tr>\n",
       "    <tr>\n",
       "      <th>19</th>\n",
       "      <td>7.195021</td>\n",
       "      <td>2017.356846</td>\n",
       "      <td>3.549793</td>\n",
       "    </tr>\n",
       "    <tr>\n",
       "      <th>20</th>\n",
       "      <td>2.103093</td>\n",
       "      <td>2017.000000</td>\n",
       "      <td>3.041237</td>\n",
       "    </tr>\n",
       "    <tr>\n",
       "      <th>21</th>\n",
       "      <td>2.214390</td>\n",
       "      <td>2017.000000</td>\n",
       "      <td>3.218023</td>\n",
       "    </tr>\n",
       "    <tr>\n",
       "      <th>22</th>\n",
       "      <td>2.169202</td>\n",
       "      <td>2017.000000</td>\n",
       "      <td>3.141540</td>\n",
       "    </tr>\n",
       "    <tr>\n",
       "      <th>23</th>\n",
       "      <td>2.188973</td>\n",
       "      <td>2017.000000</td>\n",
       "      <td>3.375421</td>\n",
       "    </tr>\n",
       "  </tbody>\n",
       "</table>\n",
       "</div>"
      ],
      "text/plain": [
       "         month         Year  item_count\n",
       "hour                                   \n",
       "0     2.164574  2017.000000    3.482960\n",
       "1     2.199027  2017.000000    3.462412\n",
       "2     2.200105  2017.000000    3.538340\n",
       "3     2.228099  2017.000000    3.300826\n",
       "4     2.175559  2017.000000    3.409639\n",
       "5     2.156463  2017.000000    3.333333\n",
       "6     2.033622  2017.000000    3.476465\n",
       "7     2.695341  2017.146953    3.179211\n",
       "8     7.260000  2017.578621    3.766897\n",
       "9     6.928374  2017.562327    4.037594\n",
       "10    6.850625  2017.520932    3.911419\n",
       "11    6.885908  2017.524284    3.956218\n",
       "12    6.844868  2017.534604    4.015491\n",
       "13    6.854288  2017.537064    3.970930\n",
       "14    7.047707  2017.558970    3.914751\n",
       "15    7.152579  2017.571626    3.823584\n",
       "16    6.969029  2017.586939    3.678576\n",
       "17    7.083774  2017.589260    3.586162\n",
       "18    7.073123  2017.559536    3.629694\n",
       "19    7.195021  2017.356846    3.549793\n",
       "20    2.103093  2017.000000    3.041237\n",
       "21    2.214390  2017.000000    3.218023\n",
       "22    2.169202  2017.000000    3.141540\n",
       "23    2.188973  2017.000000    3.375421"
      ]
     },
     "execution_count": 182,
     "metadata": {},
     "output_type": "execute_result"
    }
   ],
   "source": [
    "df_2017"
   ]
  },
  {
   "cell_type": "code",
   "execution_count": 27,
   "id": "6d78fee9",
   "metadata": {},
   "outputs": [
    {
     "data": {
      "image/png": "[encoded data removed]",
      "text/plain": [
       "<Figure size 432x288 with 1 Axes>"
      ]
     },
     "metadata": {
      "needs_background": "light"
     },
     "output_type": "display_data"
    }
   ],
   "source": [
    "plt.plot(df_2017.index, df_2017.item_count, label='Item Count')\n",
    "\n",
    "# Add labels and title\n",
    "plt.xlabel('Hour of the day')\n",
    "plt.ylabel('Item count')\n",
    "plt.title('Item count over the hour of the day')\n",
    "\n",
    "# Show the legend\n",
    "plt.legend()\n",
    "\n",
    "# Show the graph\n",
    "plt.show()"
   ]
  },
  {
   "cell_type": "code",
   "execution_count": 187,
   "id": "7dd76444",
   "metadata": {},
   "outputs": [
    {
     "data": {
      "text/plain": [
       "3.853039737165558"
      ]
     },
     "execution_count": 187,
     "metadata": {},
     "output_type": "execute_result"
    }
   ],
   "source": [
    "df_2018 = a[(a.Year == 2018)]\n",
    "df_2018 = df_2018.groupby(['hour']).mean()\n",
    "df_2018\n",
    "df_2018['item_count'].mean()"
   ]
  },
  {
   "cell_type": "code",
   "execution_count": 29,
   "id": "96e5845a",
   "metadata": {},
   "outputs": [
    {
     "data": {
      "image/png": "[encoded data removed]",
      "text/plain": [
       "<Figure size 432x288 with 1 Axes>"
      ]
     },
     "metadata": {
      "needs_background": "light"
     },
     "output_type": "display_data"
    }
   ],
   "source": [
    "plt.plot(df_2018.index, df_2018.item_count, label='Item Count')\n",
    "\n",
    "# Add labels and title\n",
    "plt.xlabel('Hour of the day')\n",
    "plt.ylabel('Item count')\n",
    "plt.title('Item count over the hour of the day')\n",
    "\n",
    "# Show the legend\n",
    "plt.legend()\n",
    "\n",
    "# Show the graph\n",
    "plt.show()"
   ]
  },
  {
   "cell_type": "code",
   "execution_count": 185,
   "id": "bdd91f18",
   "metadata": {},
   "outputs": [
    {
     "data": {
      "image/png": "[encoded data removed]",
      "text/plain": [
       "<Figure size 720x432 with 1 Axes>"
      ]
     },
     "metadata": {},
     "output_type": "display_data"
    }
   ],
   "source": [
    "import seaborn as sns\n",
    "import matplotlib.pyplot as plt\n",
    "\n",
    "# Set plot size\n",
    "plt.figure(figsize=(10, 6))\n",
    "\n",
    "# Create plot with seaborn\n",
    "sns.lineplot(x=df_2018.index, y=df_2018.item_count, color='blue', marker='o', label='Item Count')\n",
    "\n",
    "# Add labels and title\n",
    "plt.xlabel('Hour of the day', fontsize=12)\n",
    "plt.ylabel('Basket Size', fontsize=12)\n",
    "plt.title('Basket Size Through The Day (2018)', fontsize=16)\n",
    "\n",
    "plt.gca().set_facecolor('#f2f2f2')\n",
    "# Add grid lines\n",
    "plt.grid(color='gray', linestyle='--', linewidth=0.5)\n",
    "\n",
    "# Set font size of legend\n",
    "plt.legend(fontsize=12)\n",
    "\n",
    "# Show the plot\n",
    "plt.show()\n"
   ]
  },
  {
   "cell_type": "code",
   "execution_count": 188,
   "id": "fcb9f8ae",
   "metadata": {},
   "outputs": [
    {
     "data": {
      "image/png": "[encoded data removed]",
      "text/plain": [
       "<Figure size 432x288 with 1 Axes>"
      ]
     },
     "metadata": {},
     "output_type": "display_data"
    }
   ],
   "source": [
    "plt.plot(df_2017.index, df_2017.item_count, label='Item Count')\n",
    "# Add labels and title\n",
    "plt.xlabel('Hour of the day')\n",
    "plt.ylabel('Item count')\n",
    "plt.title('Item count over the hour of the day')\n",
    "\n",
    "# Show the legend\n",
    "plt.legend()\n",
    "\n",
    "# Show the graph\n",
    "plt.show()"
   ]
  },
  {
   "cell_type": "code",
   "execution_count": 189,
   "id": "30038c6f",
   "metadata": {},
   "outputs": [
    {
     "data": {
      "text/plain": [
       "3.5750214669347673"
      ]
     },
     "execution_count": 189,
     "metadata": {},
     "output_type": "execute_result"
    }
   ],
   "source": [
    "df_2017['item_count'].mean()"
   ]
  },
  {
   "cell_type": "code",
   "execution_count": 186,
   "id": "972382b5",
   "metadata": {},
   "outputs": [
    {
     "data": {
      "image/png": "[encoded data removed]",
      "text/plain": [
       "<Figure size 720x432 with 1 Axes>"
      ]
     },
     "metadata": {},
     "output_type": "display_data"
    }
   ],
   "source": [
    "import seaborn as sns\n",
    "import matplotlib.pyplot as plt\n",
    "\n",
    "# Set plot size\n",
    "plt.figure(figsize=(10, 6))\n",
    "\n",
    "# Create plot with seaborn\n",
    "sns.lineplot(x=df_2017.index, y=df_2017.item_count, color='blue', marker='o', label='Item Count')\n",
    "\n",
    "# Add labels and title\n",
    "plt.xlabel('Hour of the day', fontsize=12)\n",
    "plt.ylabel('Basket Size', fontsize=12)\n",
    "plt.title('Basket Size Through The Day (2017)', fontsize=16)\n",
    "\n",
    "plt.gca().set_facecolor('#f2f2f2')\n",
    "# Add grid lines\n",
    "plt.grid(color='gray', linestyle='--', linewidth=0.5)\n",
    "\n",
    "# Set font size of legend\n",
    "plt.legend(fontsize=12)\n",
    "\n",
    "# Show the plot\n",
    "plt.show()\n"
   ]
  },
  {
   "cell_type": "code",
   "execution_count": 126,
   "id": "190501ca",
   "metadata": {},
   "outputs": [
    {
     "data": {
      "image/png": "[encoded data removed]",
      "text/plain": [
       "<Figure size 720x432 with 1 Axes>"
      ]
     },
     "metadata": {
      "needs_background": "light"
     },
     "output_type": "display_data"
    }
   ],
   "source": [
    "import matplotlib.pyplot as plt\n",
    "\n",
    "# Set plot size\n",
    "plt.figure(figsize=(10, 6))\n",
    "\n",
    "# Create plot with marker for each data point\n",
    "plt.plot(df_2017.index, df_2017.item_count, color='blue', marker='o', label='Item Count')\n",
    "\n",
    "# Add labels and title\n",
    "plt.xlabel('Hour of the day', fontsize=12)\n",
    "plt.ylabel('Item count', fontsize=12)\n",
    "plt.title('Item count over the hour of the day', fontsize=16)\n",
    "\n",
    "# Set background color\n",
    "plt.gca().set_facecolor('#f2f2f2')\n",
    "plt.grid(color='gray', linestyle='--', linewidth=0.5)\n",
    "# Set font size of legend\n",
    "plt.legend(fontsize=12)\n",
    "\n",
    "# Show the plot\n",
    "plt.show()\n"
   ]
  },
  {
   "cell_type": "markdown",
   "id": "e44e3909",
   "metadata": {},
   "source": [
    "## Basket Size by Month"
   ]
  },
  {
   "cell_type": "code",
   "execution_count": 99,
   "id": "20b075ab",
   "metadata": {},
   "outputs": [
    {
     "data": {
      "text/html": [
       "<div>\n",
       "<style scoped>\n",
       "    .dataframe tbody tr th:only-of-type {\n",
       "        vertical-align: middle;\n",
       "    }\n",
       "\n",
       "    .dataframe tbody tr th {\n",
       "        vertical-align: top;\n",
       "    }\n",
       "\n",
       "    .dataframe thead th {\n",
       "        text-align: right;\n",
       "    }\n",
       "</style>\n",
       "<table border=\"1\" class=\"dataframe\">\n",
       "  <thead>\n",
       "    <tr style=\"text-align: right;\">\n",
       "      <th></th>\n",
       "      <th>hour</th>\n",
       "      <th>Year</th>\n",
       "      <th>item_count</th>\n",
       "    </tr>\n",
       "    <tr>\n",
       "      <th>month</th>\n",
       "      <th></th>\n",
       "      <th></th>\n",
       "      <th></th>\n",
       "    </tr>\n",
       "  </thead>\n",
       "  <tbody>\n",
       "    <tr>\n",
       "      <th>1</th>\n",
       "      <td>11.084829</td>\n",
       "      <td>2017.468640</td>\n",
       "      <td>3.536263</td>\n",
       "    </tr>\n",
       "    <tr>\n",
       "      <th>2</th>\n",
       "      <td>10.934111</td>\n",
       "      <td>2017.441024</td>\n",
       "      <td>3.510834</td>\n",
       "    </tr>\n",
       "    <tr>\n",
       "      <th>3</th>\n",
       "      <td>11.121315</td>\n",
       "      <td>2017.435532</td>\n",
       "      <td>3.598155</td>\n",
       "    </tr>\n",
       "    <tr>\n",
       "      <th>4</th>\n",
       "      <td>12.442923</td>\n",
       "      <td>2017.387526</td>\n",
       "      <td>3.760115</td>\n",
       "    </tr>\n",
       "    <tr>\n",
       "      <th>5</th>\n",
       "      <td>13.136329</td>\n",
       "      <td>2017.381823</td>\n",
       "      <td>3.782048</td>\n",
       "    </tr>\n",
       "    <tr>\n",
       "      <th>6</th>\n",
       "      <td>13.142567</td>\n",
       "      <td>2017.432707</td>\n",
       "      <td>3.707967</td>\n",
       "    </tr>\n",
       "    <tr>\n",
       "      <th>7</th>\n",
       "      <td>13.324054</td>\n",
       "      <td>2017.463368</td>\n",
       "      <td>3.826395</td>\n",
       "    </tr>\n",
       "    <tr>\n",
       "      <th>8</th>\n",
       "      <td>13.397791</td>\n",
       "      <td>2017.482566</td>\n",
       "      <td>3.918153</td>\n",
       "    </tr>\n",
       "    <tr>\n",
       "      <th>9</th>\n",
       "      <td>13.401784</td>\n",
       "      <td>2017.500935</td>\n",
       "      <td>4.054540</td>\n",
       "    </tr>\n",
       "    <tr>\n",
       "      <th>10</th>\n",
       "      <td>13.515955</td>\n",
       "      <td>2017.490400</td>\n",
       "      <td>3.969849</td>\n",
       "    </tr>\n",
       "    <tr>\n",
       "      <th>11</th>\n",
       "      <td>13.398716</td>\n",
       "      <td>2017.481787</td>\n",
       "      <td>3.914177</td>\n",
       "    </tr>\n",
       "    <tr>\n",
       "      <th>12</th>\n",
       "      <td>13.218767</td>\n",
       "      <td>2017.418049</td>\n",
       "      <td>3.857933</td>\n",
       "    </tr>\n",
       "  </tbody>\n",
       "</table>\n",
       "</div>"
      ],
      "text/plain": [
       "            hour         Year  item_count\n",
       "month                                    \n",
       "1      11.084829  2017.468640    3.536263\n",
       "2      10.934111  2017.441024    3.510834\n",
       "3      11.121315  2017.435532    3.598155\n",
       "4      12.442923  2017.387526    3.760115\n",
       "5      13.136329  2017.381823    3.782048\n",
       "6      13.142567  2017.432707    3.707967\n",
       "7      13.324054  2017.463368    3.826395\n",
       "8      13.397791  2017.482566    3.918153\n",
       "9      13.401784  2017.500935    4.054540\n",
       "10     13.515955  2017.490400    3.969849\n",
       "11     13.398716  2017.481787    3.914177\n",
       "12     13.218767  2017.418049    3.857933"
      ]
     },
     "execution_count": 99,
     "metadata": {},
     "output_type": "execute_result"
    }
   ],
   "source": [
    "# Item Count by Month\n",
    "\n",
    "df_months = a\n",
    "df_months = a.groupby(['month']).mean()\n",
    "df_months\n"
   ]
  },
  {
   "cell_type": "code",
   "execution_count": 116,
   "id": "1df33641",
   "metadata": {},
   "outputs": [
    {
     "data": {
      "image/png": "[encoded data removed]",
      "text/plain": [
       "<Figure size 432x288 with 1 Axes>"
      ]
     },
     "metadata": {
      "needs_background": "light"
     },
     "output_type": "display_data"
    }
   ],
   "source": [
    "plt.plot(df_months.index, df_months.item_count, label='Item Count')\n",
    "\n",
    "# Add labels and title\n",
    "plt.xlabel('Month of the Year')\n",
    "plt.ylabel('Item count')\n",
    "plt.title('Item Count over the Months')\n",
    "\n",
    "# Show the legend\n",
    "plt.legend()\n",
    "\n",
    "# Show the graph\n",
    "plt.show()"
   ]
  },
  {
   "cell_type": "code",
   "execution_count": 191,
   "id": "2aed5bba",
   "metadata": {},
   "outputs": [
    {
     "data": {
      "image/png": "[encoded data removed]",
      "text/plain": [
       "<Figure size 720x432 with 1 Axes>"
      ]
     },
     "metadata": {},
     "output_type": "display_data"
    }
   ],
   "source": [
    "import matplotlib.pyplot as plt\n",
    "import seaborn as sns\n",
    "\n",
    "# Set plot size\n",
    "plt.figure(figsize=(10, 6))\n",
    "\n",
    "# Create plot with marker for each data point\n",
    "sns.lineplot(x=df_months.index, y=df_months.item_count, marker='o', color='blue', label='Item Count')\n",
    "\n",
    "# Add labels and title\n",
    "plt.xlabel('Month of the Year', fontsize=12)\n",
    "plt.ylabel('Basket Size', fontsize=12)\n",
    "plt.title('Item Count over the Months', fontsize=16)\n",
    "plt.gca().set_facecolor('#f2f2f2')\n",
    "plt.grid(color='gray', linestyle='--', linewidth=0.5)\n",
    "# Set font size of legend\n",
    "\n",
    "# Show the plot\n",
    "plt.show()\n"
   ]
  },
  {
   "cell_type": "code",
   "execution_count": 112,
   "id": "f837ce9c",
   "metadata": {},
   "outputs": [
    {
     "data": {
      "text/html": [
       "<div>\n",
       "<style scoped>\n",
       "    .dataframe tbody tr th:only-of-type {\n",
       "        vertical-align: middle;\n",
       "    }\n",
       "\n",
       "    .dataframe tbody tr th {\n",
       "        vertical-align: top;\n",
       "    }\n",
       "\n",
       "    .dataframe thead th {\n",
       "        text-align: right;\n",
       "    }\n",
       "</style>\n",
       "<table border=\"1\" class=\"dataframe\">\n",
       "  <thead>\n",
       "    <tr style=\"text-align: right;\">\n",
       "      <th></th>\n",
       "      <th>receipt_id</th>\n",
       "      <th>hour</th>\n",
       "      <th>Year</th>\n",
       "      <th>item_count</th>\n",
       "      <th>Date</th>\n",
       "      <th>Time</th>\n",
       "    </tr>\n",
       "    <tr>\n",
       "      <th>month</th>\n",
       "      <th></th>\n",
       "      <th></th>\n",
       "      <th></th>\n",
       "      <th></th>\n",
       "      <th></th>\n",
       "      <th></th>\n",
       "    </tr>\n",
       "  </thead>\n",
       "  <tbody>\n",
       "    <tr>\n",
       "      <th>1</th>\n",
       "      <td>10810</td>\n",
       "      <td>10810</td>\n",
       "      <td>10810</td>\n",
       "      <td>10810</td>\n",
       "      <td>10810</td>\n",
       "      <td>10810</td>\n",
       "    </tr>\n",
       "    <tr>\n",
       "      <th>2</th>\n",
       "      <td>10199</td>\n",
       "      <td>10199</td>\n",
       "      <td>10199</td>\n",
       "      <td>10199</td>\n",
       "      <td>10199</td>\n",
       "      <td>10199</td>\n",
       "    </tr>\n",
       "    <tr>\n",
       "      <th>3</th>\n",
       "      <td>9974</td>\n",
       "      <td>9974</td>\n",
       "      <td>9974</td>\n",
       "      <td>9974</td>\n",
       "      <td>9974</td>\n",
       "      <td>9974</td>\n",
       "    </tr>\n",
       "    <tr>\n",
       "      <th>4</th>\n",
       "      <td>8033</td>\n",
       "      <td>8033</td>\n",
       "      <td>8033</td>\n",
       "      <td>8033</td>\n",
       "      <td>8033</td>\n",
       "      <td>8033</td>\n",
       "    </tr>\n",
       "    <tr>\n",
       "      <th>5</th>\n",
       "      <td>7988</td>\n",
       "      <td>7988</td>\n",
       "      <td>7988</td>\n",
       "      <td>7988</td>\n",
       "      <td>7988</td>\n",
       "      <td>7988</td>\n",
       "    </tr>\n",
       "    <tr>\n",
       "      <th>6</th>\n",
       "      <td>7393</td>\n",
       "      <td>7393</td>\n",
       "      <td>7393</td>\n",
       "      <td>7393</td>\n",
       "      <td>7393</td>\n",
       "      <td>7393</td>\n",
       "    </tr>\n",
       "    <tr>\n",
       "      <th>7</th>\n",
       "      <td>7903</td>\n",
       "      <td>7903</td>\n",
       "      <td>7903</td>\n",
       "      <td>7903</td>\n",
       "      <td>7903</td>\n",
       "      <td>7903</td>\n",
       "    </tr>\n",
       "    <tr>\n",
       "      <th>8</th>\n",
       "      <td>7514</td>\n",
       "      <td>7514</td>\n",
       "      <td>7514</td>\n",
       "      <td>7514</td>\n",
       "      <td>7514</td>\n",
       "      <td>7514</td>\n",
       "    </tr>\n",
       "    <tr>\n",
       "      <th>9</th>\n",
       "      <td>6949</td>\n",
       "      <td>6949</td>\n",
       "      <td>6949</td>\n",
       "      <td>6949</td>\n",
       "      <td>6949</td>\n",
       "      <td>6949</td>\n",
       "    </tr>\n",
       "    <tr>\n",
       "      <th>10</th>\n",
       "      <td>7396</td>\n",
       "      <td>7396</td>\n",
       "      <td>7396</td>\n",
       "      <td>7396</td>\n",
       "      <td>7396</td>\n",
       "      <td>7396</td>\n",
       "    </tr>\n",
       "    <tr>\n",
       "      <th>11</th>\n",
       "      <td>7632</td>\n",
       "      <td>7632</td>\n",
       "      <td>7632</td>\n",
       "      <td>7632</td>\n",
       "      <td>7632</td>\n",
       "      <td>7632</td>\n",
       "    </tr>\n",
       "    <tr>\n",
       "      <th>12</th>\n",
       "      <td>7236</td>\n",
       "      <td>7236</td>\n",
       "      <td>7236</td>\n",
       "      <td>7236</td>\n",
       "      <td>7236</td>\n",
       "      <td>7236</td>\n",
       "    </tr>\n",
       "  </tbody>\n",
       "</table>\n",
       "</div>"
      ],
      "text/plain": [
       "       receipt_id   hour   Year  item_count   Date   Time\n",
       "month                                                    \n",
       "1           10810  10810  10810       10810  10810  10810\n",
       "2           10199  10199  10199       10199  10199  10199\n",
       "3            9974   9974   9974        9974   9974   9974\n",
       "4            8033   8033   8033        8033   8033   8033\n",
       "5            7988   7988   7988        7988   7988   7988\n",
       "6            7393   7393   7393        7393   7393   7393\n",
       "7            7903   7903   7903        7903   7903   7903\n",
       "8            7514   7514   7514        7514   7514   7514\n",
       "9            6949   6949   6949        6949   6949   6949\n",
       "10           7396   7396   7396        7396   7396   7396\n",
       "11           7632   7632   7632        7632   7632   7632\n",
       "12           7236   7236   7236        7236   7236   7236"
      ]
     },
     "execution_count": 112,
     "metadata": {},
     "output_type": "execute_result"
    }
   ],
   "source": [
    "df_visit_freq"
   ]
  },
  {
   "cell_type": "code",
   "execution_count": 115,
   "id": "be63d909",
   "metadata": {},
   "outputs": [
    {
     "data": {
      "image/png": "[encoded data removed]",
      "text/plain": [
       "<Figure size 432x288 with 1 Axes>"
      ]
     },
     "metadata": {
      "needs_background": "light"
     },
     "output_type": "display_data"
    }
   ],
   "source": [
    "df_visit_freq = a\n",
    "df_visit_freq = a.groupby(['month']).count()\n",
    "df_visit_freq\n",
    "\n",
    "plt.plot(df_visit_freq.index, df_visit_freq.receipt_id, label='Number of Visits')\n",
    "# Add labels and title\n",
    "plt.xlabel('Month of the Year')\n",
    "plt.ylabel('Number of visits')\n",
    "plt.title('Number of Visits over Months')\n",
    "\n",
    "# Show the legend\n",
    "plt.legend()\n",
    "\n",
    "# Show the graph\n",
    "plt.show()"
   ]
  },
  {
   "cell_type": "code",
   "execution_count": 130,
   "id": "1a6645c9",
   "metadata": {},
   "outputs": [
    {
     "data": {
      "image/png": "[encoded data removed]",
      "text/plain": [
       "<Figure size 720x432 with 1 Axes>"
      ]
     },
     "metadata": {
      "needs_background": "light"
     },
     "output_type": "display_data"
    }
   ],
   "source": [
    "import matplotlib.pyplot as plt\n",
    "import seaborn as sns\n",
    "\n",
    "# Group data by month and count number of visits\n",
    "df_visit_freq = a.groupby(['month']).count()\n",
    "\n",
    "# Set plot size\n",
    "plt.figure(figsize=(10, 6))\n",
    "\n",
    "# Create plot with marker for each data point\n",
    "sns.lineplot(x=df_visit_freq.index, y=df_visit_freq.receipt_id, marker='o', color='blue', label='Number of Visits')\n",
    "\n",
    "# Add labels and title\n",
    "plt.xlabel('Month of the Year', fontsize=12)\n",
    "plt.ylabel('Number of Visits', fontsize=12)\n",
    "plt.title('Number of Visits over Months', fontsize=16)\n",
    "plt.gca().set_facecolor('#f2f2f2')\n",
    "plt.grid(color='gray', linestyle='--', linewidth=0.5)\n",
    "# Set font size of legend\n",
    "plt.legend(fontsize=12)\n",
    "\n",
    "# Show the plot\n",
    "plt.show()\n"
   ]
  },
  {
   "cell_type": "code",
   "execution_count": 117,
   "id": "4b1f98dc",
   "metadata": {},
   "outputs": [
    {
     "data": {
      "text/html": [
       "<div>\n",
       "<style scoped>\n",
       "    .dataframe tbody tr th:only-of-type {\n",
       "        vertical-align: middle;\n",
       "    }\n",
       "\n",
       "    .dataframe tbody tr th {\n",
       "        vertical-align: top;\n",
       "    }\n",
       "\n",
       "    .dataframe thead th {\n",
       "        text-align: right;\n",
       "    }\n",
       "</style>\n",
       "<table border=\"1\" class=\"dataframe\">\n",
       "  <thead>\n",
       "    <tr style=\"text-align: right;\">\n",
       "      <th></th>\n",
       "      <th>receipt_id</th>\n",
       "      <th>month</th>\n",
       "      <th>hour</th>\n",
       "      <th>Year</th>\n",
       "      <th>item_count</th>\n",
       "      <th>Date</th>\n",
       "      <th>Time</th>\n",
       "    </tr>\n",
       "  </thead>\n",
       "  <tbody>\n",
       "    <tr>\n",
       "      <th>0</th>\n",
       "      <td>0001c063-2d32-4380-9db6-de20c5b48f59</td>\n",
       "      <td>1</td>\n",
       "      <td>1</td>\n",
       "      <td>2017</td>\n",
       "      <td>2</td>\n",
       "      <td>16-01-2017</td>\n",
       "      <td>01:54:07</td>\n",
       "    </tr>\n",
       "    <tr>\n",
       "      <th>2</th>\n",
       "      <td>0002a81e-5e13-4e0f-95fd-2f4a46c997fb</td>\n",
       "      <td>1</td>\n",
       "      <td>22</td>\n",
       "      <td>2017</td>\n",
       "      <td>5</td>\n",
       "      <td>25-01-2017</td>\n",
       "      <td>22:24:42</td>\n",
       "    </tr>\n",
       "    <tr>\n",
       "      <th>7</th>\n",
       "      <td>0002d6fc-1efa-43de-ba27-a683a1ee7ab8</td>\n",
       "      <td>5</td>\n",
       "      <td>17</td>\n",
       "      <td>2018</td>\n",
       "      <td>3</td>\n",
       "      <td>20-05-2018</td>\n",
       "      <td>17:28:28</td>\n",
       "    </tr>\n",
       "    <tr>\n",
       "      <th>10</th>\n",
       "      <td>000321da-e88c-4156-ab78-ea46cbf178ed</td>\n",
       "      <td>5</td>\n",
       "      <td>14</td>\n",
       "      <td>2017</td>\n",
       "      <td>3</td>\n",
       "      <td>08-05-2017</td>\n",
       "      <td>14:05:04</td>\n",
       "    </tr>\n",
       "    <tr>\n",
       "      <th>13</th>\n",
       "      <td>00032d46-cf9e-4b0b-b003-2f6bb5ab3e85</td>\n",
       "      <td>5</td>\n",
       "      <td>13</td>\n",
       "      <td>2017</td>\n",
       "      <td>1</td>\n",
       "      <td>02-05-2017</td>\n",
       "      <td>13:33:13</td>\n",
       "    </tr>\n",
       "    <tr>\n",
       "      <th>...</th>\n",
       "      <td>...</td>\n",
       "      <td>...</td>\n",
       "      <td>...</td>\n",
       "      <td>...</td>\n",
       "      <td>...</td>\n",
       "      <td>...</td>\n",
       "      <td>...</td>\n",
       "    </tr>\n",
       "    <tr>\n",
       "      <th>372742</th>\n",
       "      <td>fffdf03b-eea7-487e-b298-44fd3f1189fa</td>\n",
       "      <td>6</td>\n",
       "      <td>17</td>\n",
       "      <td>2018</td>\n",
       "      <td>4</td>\n",
       "      <td>06-06-2018</td>\n",
       "      <td>17:42:20</td>\n",
       "    </tr>\n",
       "    <tr>\n",
       "      <th>372746</th>\n",
       "      <td>fffe5373-ab7d-40b3-9821-28334f34306c</td>\n",
       "      <td>2</td>\n",
       "      <td>7</td>\n",
       "      <td>2017</td>\n",
       "      <td>1</td>\n",
       "      <td>03-02-2017</td>\n",
       "      <td>07:03:45</td>\n",
       "    </tr>\n",
       "    <tr>\n",
       "      <th>372747</th>\n",
       "      <td>fffe8a4a-313d-4817-a94f-680cc27111fe</td>\n",
       "      <td>3</td>\n",
       "      <td>15</td>\n",
       "      <td>2018</td>\n",
       "      <td>6</td>\n",
       "      <td>28-03-2018</td>\n",
       "      <td>15:51:37</td>\n",
       "    </tr>\n",
       "    <tr>\n",
       "      <th>372753</th>\n",
       "      <td>fffee230-046f-4ad5-92e3-ef935ddc926d</td>\n",
       "      <td>2</td>\n",
       "      <td>1</td>\n",
       "      <td>2017</td>\n",
       "      <td>1</td>\n",
       "      <td>23-02-2017</td>\n",
       "      <td>01:42:00</td>\n",
       "    </tr>\n",
       "    <tr>\n",
       "      <th>372754</th>\n",
       "      <td>ffff062a-d847-4c6f-821e-8453fbaa8b90</td>\n",
       "      <td>1</td>\n",
       "      <td>12</td>\n",
       "      <td>2018</td>\n",
       "      <td>3</td>\n",
       "      <td>31-01-2018</td>\n",
       "      <td>12:00:09</td>\n",
       "    </tr>\n",
       "  </tbody>\n",
       "</table>\n",
       "<p>99027 rows × 7 columns</p>\n",
       "</div>"
      ],
      "text/plain": [
       "                                  receipt_id  month  hour  Year  item_count  \\\n",
       "0       0001c063-2d32-4380-9db6-de20c5b48f59      1     1  2017           2   \n",
       "2       0002a81e-5e13-4e0f-95fd-2f4a46c997fb      1    22  2017           5   \n",
       "7       0002d6fc-1efa-43de-ba27-a683a1ee7ab8      5    17  2018           3   \n",
       "10      000321da-e88c-4156-ab78-ea46cbf178ed      5    14  2017           3   \n",
       "13      00032d46-cf9e-4b0b-b003-2f6bb5ab3e85      5    13  2017           1   \n",
       "...                                      ...    ...   ...   ...         ...   \n",
       "372742  fffdf03b-eea7-487e-b298-44fd3f1189fa      6    17  2018           4   \n",
       "372746  fffe5373-ab7d-40b3-9821-28334f34306c      2     7  2017           1   \n",
       "372747  fffe8a4a-313d-4817-a94f-680cc27111fe      3    15  2018           6   \n",
       "372753  fffee230-046f-4ad5-92e3-ef935ddc926d      2     1  2017           1   \n",
       "372754  ffff062a-d847-4c6f-821e-8453fbaa8b90      1    12  2018           3   \n",
       "\n",
       "              Date       Time  \n",
       "0       16-01-2017   01:54:07  \n",
       "2       25-01-2017   22:24:42  \n",
       "7       20-05-2018   17:28:28  \n",
       "10      08-05-2017   14:05:04  \n",
       "13      02-05-2017   13:33:13  \n",
       "...            ...        ...  \n",
       "372742  06-06-2018   17:42:20  \n",
       "372746  03-02-2017   07:03:45  \n",
       "372747  28-03-2018   15:51:37  \n",
       "372753  23-02-2017   01:42:00  \n",
       "372754  31-01-2018   12:00:09  \n",
       "\n",
       "[99027 rows x 7 columns]"
      ]
     },
     "execution_count": 117,
     "metadata": {},
     "output_type": "execute_result"
    }
   ],
   "source": [
    "a"
   ]
  },
  {
   "cell_type": "code",
   "execution_count": null,
   "id": "a7ed3bc7",
   "metadata": {},
   "outputs": [],
   "source": []
  },
  {
   "cell_type": "code",
   "execution_count": null,
   "id": "4aeb6e5f",
   "metadata": {},
   "outputs": [],
   "source": []
  },
  {
   "cell_type": "markdown",
   "id": "5aa019cf",
   "metadata": {},
   "source": [
    "## Transaction Trends"
   ]
  },
  {
   "cell_type": "code",
   "execution_count": 70,
   "id": "2ab3bc6c",
   "metadata": {},
   "outputs": [
    {
     "data": {
      "text/html": [
       "<div>\n",
       "<style scoped>\n",
       "    .dataframe tbody tr th:only-of-type {\n",
       "        vertical-align: middle;\n",
       "    }\n",
       "\n",
       "    .dataframe tbody tr th {\n",
       "        vertical-align: top;\n",
       "    }\n",
       "\n",
       "    .dataframe thead th {\n",
       "        text-align: right;\n",
       "    }\n",
       "</style>\n",
       "<table border=\"1\" class=\"dataframe\">\n",
       "  <thead>\n",
       "    <tr style=\"text-align: right;\">\n",
       "      <th></th>\n",
       "      <th>month</th>\n",
       "      <th>hour</th>\n",
       "      <th>item_code</th>\n",
       "      <th>item_name</th>\n",
       "      <th>quantity</th>\n",
       "      <th>payment_type</th>\n",
       "      <th>unit_buying_price</th>\n",
       "      <th>unit_selling_price</th>\n",
       "      <th>unit_price_margin</th>\n",
       "      <th>total_buying_price</th>\n",
       "      <th>...</th>\n",
       "      <th>total_profit</th>\n",
       "      <th>Date</th>\n",
       "      <th>Time</th>\n",
       "      <th>main_category</th>\n",
       "      <th>sub_category</th>\n",
       "      <th>Day</th>\n",
       "      <th>Month</th>\n",
       "      <th>Year</th>\n",
       "      <th>receipt_id</th>\n",
       "      <th>basket_count</th>\n",
       "    </tr>\n",
       "  </thead>\n",
       "  <tbody>\n",
       "    <tr>\n",
       "      <th>0</th>\n",
       "      <td>7</td>\n",
       "      <td>8</td>\n",
       "      <td>2025.0</td>\n",
       "      <td>Kiwi fruit Green</td>\n",
       "      <td>0.546</td>\n",
       "      <td>cash</td>\n",
       "      <td>0.0</td>\n",
       "      <td>5.5</td>\n",
       "      <td>5.5</td>\n",
       "      <td>0.0</td>\n",
       "      <td>...</td>\n",
       "      <td>3.003</td>\n",
       "      <td>19-07-2018</td>\n",
       "      <td>08:40:13</td>\n",
       "      <td>Fresh Produce</td>\n",
       "      <td>Other Fruits</td>\n",
       "      <td>19</td>\n",
       "      <td>7</td>\n",
       "      <td>2018</td>\n",
       "      <td>c5341571-9ead-49bf-ae6d-3a7ddfbd0e31</td>\n",
       "      <td>2.0</td>\n",
       "    </tr>\n",
       "    <tr>\n",
       "      <th>1</th>\n",
       "      <td>6</td>\n",
       "      <td>16</td>\n",
       "      <td>2025.0</td>\n",
       "      <td>Kiwi fruit Green</td>\n",
       "      <td>0.546</td>\n",
       "      <td>cash</td>\n",
       "      <td>0.0</td>\n",
       "      <td>5.5</td>\n",
       "      <td>5.5</td>\n",
       "      <td>0.0</td>\n",
       "      <td>...</td>\n",
       "      <td>3.003</td>\n",
       "      <td>15-06-2018</td>\n",
       "      <td>16:01:07</td>\n",
       "      <td>Fresh Produce</td>\n",
       "      <td>Other Fruits</td>\n",
       "      <td>15</td>\n",
       "      <td>6</td>\n",
       "      <td>2018</td>\n",
       "      <td>f6d66747-85e2-4b43-99c3-3fc324ea02f7</td>\n",
       "      <td>5.0</td>\n",
       "    </tr>\n",
       "    <tr>\n",
       "      <th>2</th>\n",
       "      <td>9</td>\n",
       "      <td>9</td>\n",
       "      <td>2025.0</td>\n",
       "      <td>Kiwi fruit Green</td>\n",
       "      <td>0.548</td>\n",
       "      <td>cash</td>\n",
       "      <td>0.0</td>\n",
       "      <td>5.5</td>\n",
       "      <td>5.5</td>\n",
       "      <td>0.0</td>\n",
       "      <td>...</td>\n",
       "      <td>3.014</td>\n",
       "      <td>18-09-2018</td>\n",
       "      <td>09:01:37</td>\n",
       "      <td>Fresh Produce</td>\n",
       "      <td>Other Fruits</td>\n",
       "      <td>18</td>\n",
       "      <td>9</td>\n",
       "      <td>2018</td>\n",
       "      <td>5757fe87-17b3-44ff-ae49-7548cd156998</td>\n",
       "      <td>3.0</td>\n",
       "    </tr>\n",
       "    <tr>\n",
       "      <th>3</th>\n",
       "      <td>8</td>\n",
       "      <td>12</td>\n",
       "      <td>2025.0</td>\n",
       "      <td>Kiwi fruit Green</td>\n",
       "      <td>0.548</td>\n",
       "      <td>cash</td>\n",
       "      <td>0.0</td>\n",
       "      <td>5.5</td>\n",
       "      <td>5.5</td>\n",
       "      <td>0.0</td>\n",
       "      <td>...</td>\n",
       "      <td>3.014</td>\n",
       "      <td>14-08-2018</td>\n",
       "      <td>12:36:46</td>\n",
       "      <td>Fresh Produce</td>\n",
       "      <td>Other Fruits</td>\n",
       "      <td>14</td>\n",
       "      <td>8</td>\n",
       "      <td>2018</td>\n",
       "      <td>ccfec4ae-e68f-4f7f-a15d-486b98acbd09</td>\n",
       "      <td>3.0</td>\n",
       "    </tr>\n",
       "    <tr>\n",
       "      <th>4</th>\n",
       "      <td>6</td>\n",
       "      <td>17</td>\n",
       "      <td>2025.0</td>\n",
       "      <td>Kiwi fruit Green</td>\n",
       "      <td>0.550</td>\n",
       "      <td>cash</td>\n",
       "      <td>0.0</td>\n",
       "      <td>5.5</td>\n",
       "      <td>5.5</td>\n",
       "      <td>0.0</td>\n",
       "      <td>...</td>\n",
       "      <td>3.025</td>\n",
       "      <td>19-06-2018</td>\n",
       "      <td>17:03:58</td>\n",
       "      <td>Fresh Produce</td>\n",
       "      <td>Other Fruits</td>\n",
       "      <td>19</td>\n",
       "      <td>6</td>\n",
       "      <td>2018</td>\n",
       "      <td>9a45dc36-f771-42a7-a343-fac1a8e58bb7</td>\n",
       "      <td>1.0</td>\n",
       "    </tr>\n",
       "  </tbody>\n",
       "</table>\n",
       "<p>5 rows × 21 columns</p>\n",
       "</div>"
      ],
      "text/plain": [
       "   month  hour  item_code         item_name  quantity payment_type  \\\n",
       "0      7     8     2025.0  Kiwi fruit Green     0.546         cash   \n",
       "1      6    16     2025.0  Kiwi fruit Green     0.546         cash   \n",
       "2      9     9     2025.0  Kiwi fruit Green     0.548         cash   \n",
       "3      8    12     2025.0  Kiwi fruit Green     0.548         cash   \n",
       "4      6    17     2025.0  Kiwi fruit Green     0.550         cash   \n",
       "\n",
       "   unit_buying_price  unit_selling_price  unit_price_margin  \\\n",
       "0                0.0                 5.5                5.5   \n",
       "1                0.0                 5.5                5.5   \n",
       "2                0.0                 5.5                5.5   \n",
       "3                0.0                 5.5                5.5   \n",
       "4                0.0                 5.5                5.5   \n",
       "\n",
       "   total_buying_price  ...  total_profit        Date       Time  \\\n",
       "0                 0.0  ...         3.003  19-07-2018   08:40:13   \n",
       "1                 0.0  ...         3.003  15-06-2018   16:01:07   \n",
       "2                 0.0  ...         3.014  18-09-2018   09:01:37   \n",
       "3                 0.0  ...         3.014  14-08-2018   12:36:46   \n",
       "4                 0.0  ...         3.025  19-06-2018   17:03:58   \n",
       "\n",
       "   main_category  sub_category Day  Month  Year  \\\n",
       "0  Fresh Produce  Other Fruits  19      7  2018   \n",
       "1  Fresh Produce  Other Fruits  15      6  2018   \n",
       "2  Fresh Produce  Other Fruits  18      9  2018   \n",
       "3  Fresh Produce  Other Fruits  14      8  2018   \n",
       "4  Fresh Produce  Other Fruits  19      6  2018   \n",
       "\n",
       "                             receipt_id basket_count  \n",
       "0  c5341571-9ead-49bf-ae6d-3a7ddfbd0e31          2.0  \n",
       "1  f6d66747-85e2-4b43-99c3-3fc324ea02f7          5.0  \n",
       "2  5757fe87-17b3-44ff-ae49-7548cd156998          3.0  \n",
       "3  ccfec4ae-e68f-4f7f-a15d-486b98acbd09          3.0  \n",
       "4  9a45dc36-f771-42a7-a343-fac1a8e58bb7          1.0  \n",
       "\n",
       "[5 rows x 21 columns]"
      ]
     },
     "execution_count": 70,
     "metadata": {},
     "output_type": "execute_result"
    }
   ],
   "source": [
    "# DF 2\n",
    "df2.head()"
   ]
  },
  {
   "cell_type": "code",
   "execution_count": 71,
   "id": "83906275",
   "metadata": {},
   "outputs": [],
   "source": [
    "df_payment_method = df2.groupby(['payment_type'])['total_selling_price'].sum()"
   ]
  },
  {
   "cell_type": "code",
   "execution_count": 72,
   "id": "e2f268ab",
   "metadata": {},
   "outputs": [
    {
     "data": {
      "text/plain": [
       "payment_type\n",
       "cash       722075.033301\n",
       "free           26.890640\n",
       "magcard    353934.717054\n",
       "Name: total_selling_price, dtype: float64"
      ]
     },
     "execution_count": 72,
     "metadata": {},
     "output_type": "execute_result"
    }
   ],
   "source": [
    "df_payment_method"
   ]
  },
  {
   "cell_type": "code",
   "execution_count": 73,
   "id": "9cf63e58",
   "metadata": {},
   "outputs": [],
   "source": [
    "df_payment_method2 = df_payment_method.drop(index = 'free')"
   ]
  },
  {
   "cell_type": "code",
   "execution_count": 74,
   "id": "216d3633",
   "metadata": {},
   "outputs": [
    {
     "data": {
      "text/plain": [
       "payment_type\n",
       "cash       722075.033301\n",
       "magcard    353934.717054\n",
       "Name: total_selling_price, dtype: float64"
      ]
     },
     "execution_count": 74,
     "metadata": {},
     "output_type": "execute_result"
    }
   ],
   "source": [
    "df_payment_method.drop(index = 'free')"
   ]
  },
  {
   "cell_type": "code",
   "execution_count": null,
   "id": "8a11984d",
   "metadata": {},
   "outputs": [],
   "source": []
  },
  {
   "cell_type": "code",
   "execution_count": null,
   "id": "9c52b64a",
   "metadata": {},
   "outputs": [],
   "source": []
  },
  {
   "cell_type": "code",
   "execution_count": 75,
   "id": "9d96fd60",
   "metadata": {},
   "outputs": [
    {
     "data": {
      "text/plain": [
       "1076036.640994275"
      ]
     },
     "execution_count": 75,
     "metadata": {},
     "output_type": "execute_result"
    }
   ],
   "source": [
    "df['total_selling_price'].sum()"
   ]
  },
  {
   "cell_type": "code",
   "execution_count": 94,
   "id": "0f03806f",
   "metadata": {},
   "outputs": [
    {
     "name": "stderr",
     "output_type": "stream",
     "text": [
      "No artists with labels found to put in legend.  Note that artists whose label start with an underscore are ignored when legend() is called with no argument.\n"
     ]
    },
    {
     "data": {
      "image/png": "[encoded data removed]",
      "text/plain": [
       "<Figure size 432x288 with 1 Axes>"
      ]
     },
     "metadata": {
      "needs_background": "light"
     },
     "output_type": "display_data"
    }
   ],
   "source": [
    "colors = ['red','blue']\n",
    "plt.bar(df_payment_method2.index, df_payment_method2*100/sum(df_payment_method2), color = colors, label='')\n",
    "\n",
    "# Add labels and title\n",
    "plt.xlabel('Payment Method')\n",
    "plt.ylabel('Recvenue Percent')\n",
    "plt.title('Cash vs Card: Amount Paid')\n",
    "\n",
    "# Show the legend\n",
    "plt.legend()\n",
    "\n",
    "# Show the graph\n",
    "plt.show()"
   ]
  },
  {
   "cell_type": "code",
   "execution_count": 134,
   "id": "153a262d",
   "metadata": {},
   "outputs": [
    {
     "name": "stderr",
     "output_type": "stream",
     "text": [
      "No artists with labels found to put in legend.  Note that artists whose label start with an underscore are ignored when legend() is called with no argument.\n"
     ]
    },
    {
     "data": {
      "image/png": "[encoded data removed]",
      "text/plain": [
       "<Figure size 720x432 with 1 Axes>"
      ]
     },
     "metadata": {
      "needs_background": "light"
     },
     "output_type": "display_data"
    }
   ],
   "source": [
    "import matplotlib.pyplot as plt\n",
    "import seaborn as sns\n",
    "\n",
    "# Calculate percent of revenue for each payment method\n",
    "percent_revenue = df_payment_method2 * 100 / sum(df_payment_method2)\n",
    "\n",
    "# Set plot size\n",
    "plt.figure(figsize=(10, 6))\n",
    "\n",
    "# Create plot with dollar labels, percentage labels, and gridlines\n",
    "sns.barplot(x=df_payment_method2.index, y=percent_revenue, palette=['red', 'blue'], edgecolor='black')\n",
    "for index, value in enumerate(df_payment_method2):\n",
    "    #plt.text(index, value*100/sum(df_payment_method2), f\"${value:.2f}\", ha='center', fontsize=12)\n",
    "    plt.text(index, value*100/sum(df_payment_method2)+1, f\"{percent_revenue[index]:.2f}%\", ha='center', fontsize=12)\n",
    "plt.gca().yaxis.grid(True)\n",
    "\n",
    "# Add labels and title\n",
    "plt.xlabel('Payment Method', fontsize=12)\n",
    "plt.ylabel('Revenue Percent ($)', fontsize=12)\n",
    "plt.title('Cash vs Card: Amount Paid', fontsize=16)\n",
    "\n",
    "# Remove legend\n",
    "plt.legend().remove()\n",
    "\n",
    "# Show the plot\n",
    "plt.show()"
   ]
  },
  {
   "cell_type": "code",
   "execution_count": 84,
   "id": "6cc636d3",
   "metadata": {},
   "outputs": [
    {
     "data": {
      "text/plain": [
       "payment_type\n",
       "cash       81012\n",
       "magcard    18014\n",
       "Name: receipt_id, dtype: int64"
      ]
     },
     "execution_count": 84,
     "metadata": {},
     "output_type": "execute_result"
    }
   ],
   "source": [
    "df_payment_method_count = df2.groupby(['payment_type'])['receipt_id'].nunique()\n",
    "df_payment_method_count = df_payment_method_count.drop(index = 'free')\n",
    "df_payment_method_count"
   ]
  },
  {
   "cell_type": "code",
   "execution_count": 131,
   "id": "f8319f8e",
   "metadata": {},
   "outputs": [
    {
     "name": "stderr",
     "output_type": "stream",
     "text": [
      "No artists with labels found to put in legend.  Note that artists whose label start with an underscore are ignored when legend() is called with no argument.\n"
     ]
    },
    {
     "data": {
      "image/png": "[encoded data removed]",
      "text/plain": [
       "<Figure size 432x288 with 1 Axes>"
      ]
     },
     "metadata": {
      "needs_background": "light"
     },
     "output_type": "display_data"
    }
   ],
   "source": [
    "colors = ['red','blue']\n",
    "plt.bar(df_payment_method_count.index, df_payment_method_count*100/sum(df_payment_method_count), color = colors, label='')\n",
    "\n",
    "# Add labels and title\n",
    "plt.xlabel('Payment Method')\n",
    "plt.ylabel('Percent of Revenue')\n",
    "plt.title('Cash vs Card: Number of Transactions')\n",
    "\n",
    "# Show the legend\n",
    "plt.legend()\n",
    "\n",
    "# Show the graph\n",
    "plt.show()"
   ]
  },
  {
   "cell_type": "code",
   "execution_count": 193,
   "id": "6de409dd",
   "metadata": {},
   "outputs": [
    {
     "name": "stderr",
     "output_type": "stream",
     "text": [
      "No artists with labels found to put in legend.  Note that artists whose label start with an underscore are ignored when legend() is called with no argument.\n"
     ]
    },
    {
     "data": {
      "image/png": "[encoded data removed]",
      "text/plain": [
       "<Figure size 720x432 with 1 Axes>"
      ]
     },
     "metadata": {},
     "output_type": "display_data"
    }
   ],
   "source": [
    "import matplotlib.pyplot as plt\n",
    "import seaborn as sns\n",
    "\n",
    "# Calculate percent of revenue for each payment method\n",
    "percent_revenue = df_payment_method_count * 100 / sum(df_payment_method_count)\n",
    "\n",
    "# Set plot size\n",
    "plt.figure(figsize=(10, 6))\n",
    "\n",
    "# Create plot with dollar labels, percentage labels, and gridlines\n",
    "sns.barplot(x=df_payment_method_count.index, y=percent_revenue, palette=['red', 'blue'], edgecolor='black')\n",
    "for index, value in enumerate(df_payment_method_count):\n",
    "    #plt.text(index, value*100/sum(df_payment_method_count), f\"${value:.2f}\", ha='center', fontsize=12)\n",
    "    plt.text(index, value*100/sum(df_payment_method_count)+1, f\"{percent_revenue[index]:.2f}%\", ha='center', fontsize=12)\n",
    "plt.gca().yaxis.grid(True)\n",
    "\n",
    "# Add labels and title\n",
    "plt.xlabel('Payment Method', fontsize=12)\n",
    "plt.ylabel('Revenue Percent ($)', fontsize=12)\n",
    "plt.title('Cash vs Card: Percentage of Transactions', fontsize=16)\n",
    "\n",
    "# Remove legend\n",
    "plt.legend().remove()\n",
    "\n",
    "# Show the plot\n",
    "plt.show()\n"
   ]
  },
  {
   "cell_type": "code",
   "execution_count": 95,
   "id": "9d9b5686",
   "metadata": {},
   "outputs": [
    {
     "data": {
      "text/plain": [
       "payment_type\n",
       "cash        8.913186\n",
       "magcard    19.647758\n",
       "dtype: float64"
      ]
     },
     "execution_count": 95,
     "metadata": {},
     "output_type": "execute_result"
    }
   ],
   "source": [
    "df_pay_avg = df_payment_method2/df_payment_method_count\n",
    "df_pay_avg"
   ]
  },
  {
   "cell_type": "code",
   "execution_count": 92,
   "id": "e6fae8c6",
   "metadata": {},
   "outputs": [
    {
     "name": "stderr",
     "output_type": "stream",
     "text": [
      "No artists with labels found to put in legend.  Note that artists whose label start with an underscore are ignored when legend() is called with no argument.\n"
     ]
    },
    {
     "data": {
      "image/png": "[encoded data removed]",
      "text/plain": [
       "<Figure size 432x288 with 1 Axes>"
      ]
     },
     "metadata": {
      "needs_background": "light"
     },
     "output_type": "display_data"
    }
   ],
   "source": [
    "# Average payment per transaction channel\n",
    "colors = ['red','blue']\n",
    "plt.bar(df_pay_avg.index, df_pay_avg, color = colors, label='')\n",
    "\n",
    "# Add labels and title\n",
    "plt.xlabel('Payment Method')\n",
    "plt.ylabel('Percent of Revenue')\n",
    "plt.title('Cash vs Card: Amount Paid Per Transaction')\n",
    "\n",
    "# Show the legend\n",
    "plt.legend()\n",
    "\n",
    "# Show the graph\n",
    "plt.show()"
   ]
  },
  {
   "cell_type": "code",
   "execution_count": 194,
   "id": "87479c59",
   "metadata": {},
   "outputs": [
    {
     "name": "stderr",
     "output_type": "stream",
     "text": [
      "No artists with labels found to put in legend.  Note that artists whose label start with an underscore are ignored when legend() is called with no argument.\n"
     ]
    },
    {
     "data": {
      "image/png": "[encoded data removed]",
      "text/plain": [
       "<Figure size 720x432 with 1 Axes>"
      ]
     },
     "metadata": {},
     "output_type": "display_data"
    }
   ],
   "source": [
    "import matplotlib.pyplot as plt\n",
    "import seaborn as sns\n",
    "\n",
    "# Calculate percent of revenue for each payment method\n",
    "percent_revenue = df_pay_avg * 100 / sum(df_pay_avg)\n",
    "\n",
    "# Set plot size\n",
    "plt.figure(figsize=(10, 6))\n",
    "\n",
    "# Create plot with dollar labels, percentage labels, and gridlines\n",
    "sns.barplot(x=df_pay_avg.index, y=df_pay_avg, palette=['red', 'blue'], edgecolor='black')\n",
    "for index, value in enumerate(df_pay_avg):\n",
    "    plt.text(index, value*100/sum(df_pay_avg), f\"${value:.2f}\", ha='center', fontsize=12)\n",
    "    #plt.text(index, value*100/sum(df_pay_avg)+1, f\"{percent_revenue[index]:.2f}%\", ha='center', fontsize=12)\n",
    "plt.gca().yaxis.grid(True)\n",
    "\n",
    "# Add labels and title\n",
    "plt.xlabel('Payment Method', fontsize=12)\n",
    "plt.ylabel('Revenue Percent ($)', fontsize=12)\n",
    "plt.title('Cash vs Card: Average Transaction Amount', fontsize=16)\n",
    "\n",
    "# Remove legend\n",
    "plt.legend().remove()\n",
    "\n",
    "# Show the plot\n",
    "plt.show()\n"
   ]
  },
  {
   "cell_type": "code",
   "execution_count": 159,
   "id": "2e9c5c18",
   "metadata": {},
   "outputs": [
    {
     "name": "stderr",
     "output_type": "stream",
     "text": [
      "C:\\Users\\arjun\\AppData\\Local\\Temp\\ipykernel_5448\\1491548443.py:22: UserWarning: FixedFormatter should only be used together with FixedLocator\n",
      "  ax.set_xticklabels(df_pay_avg.index, fontsize=12)\n"
     ]
    },
    {
     "data": {
      "image/png": "[encoded data removed]",
      "text/plain": [
       "<Figure size 432x288 with 1 Axes>"
      ]
     },
     "metadata": {},
     "output_type": "display_data"
    }
   ],
   "source": [
    "import seaborn as sns\n",
    "\n",
    "# Set the style\n",
    "sns.set_style('whitegrid')\n",
    "\n",
    "# Create the bar chart\n",
    "fig, ax = plt.subplots()\n",
    "\n",
    "colors = ['red', 'blue']\n",
    "ax.bar(df_pay_avg.index, df_pay_avg, color=colors)\n",
    "\n",
    "# Add value labels to the bars\n",
    "for i, v in enumerate(df_pay_avg):\n",
    "    ax.text(i, v+1, f'${v:.2f}', ha='center', fontweight='bold')\n",
    "\n",
    "# Add labels and title\n",
    "ax.set_xlabel('Payment Method', fontsize=12)\n",
    "ax.set_ylabel('Amount Paid per Transaction (in $)', fontsize=12)\n",
    "ax.set_title('Cash vs Card: Average Payment per Transaction', fontsize=14)\n",
    "\n",
    "# Adjust the x-axis labels\n",
    "ax.set_xticklabels(df_pay_avg.index, fontsize=12)\n",
    "\n",
    "# Remove the top and right spines\n",
    "ax.spines['top'].set_visible(False)\n",
    "ax.spines['right'].set_visible(False)\n",
    "\n",
    "# Show the graph\n",
    "plt.show()"
   ]
  },
  {
   "cell_type": "code",
   "execution_count": 142,
   "id": "aa010c58",
   "metadata": {},
   "outputs": [
    {
     "name": "stderr",
     "output_type": "stream",
     "text": [
      "C:\\Users\\arjun\\AppData\\Local\\Temp\\ipykernel_5448\\1548944127.py:21: UserWarning: FixedFormatter should only be used together with FixedLocator\n",
      "  ax.set_xticklabels(df_pay_avg.index, fontsize=12)\n"
     ]
    },
    {
     "data": {
      "image/png": "[encoded data removed]",
      "text/plain": [
       "<Figure size 432x288 with 1 Axes>"
      ]
     },
     "metadata": {},
     "output_type": "display_data"
    }
   ],
   "source": [
    "import seaborn as sns\n",
    "\n",
    "# Set the style\n",
    "sns.set_style('whitegrid')\n",
    "\n",
    "# Create the bar chart\n",
    "fig, ax = plt.subplots()\n",
    "colors = ['red', 'blue']\n",
    "ax.bar(df_pay_avg.index, df_pay_avg, color=colors)\n",
    "\n",
    "# Add value labels to the bars\n",
    "for i, v in enumerate(df_pay_avg):\n",
    "    ax.text(i, v+1, f'${v:.2f}', ha='center', fontweight='bold')\n",
    "\n",
    "# Add labels and title\n",
    "ax.set_xlabel('Payment Method', fontsize=12)\n",
    "ax.set_ylabel('Amount Paid per Transaction (in $)', fontsize=12)\n",
    "ax.set_title('Cash vs Card: Average Payment per Transaction', fontsize=14)\n",
    "\n",
    "# Adjust the x-axis labels\n",
    "ax.set_xticklabels(df_pay_avg.index, fontsize=12)\n",
    "\n",
    "# Remove the top and right spines\n",
    "ax.spines['top'].set_visible(False)\n",
    "ax.spines['right'].set_visible(False)\n",
    "\n",
    "# Show the graph\n",
    "plt.show()\n"
   ]
  },
  {
   "cell_type": "code",
   "execution_count": null,
   "id": "1857bdbb",
   "metadata": {},
   "outputs": [],
   "source": []
  }
 ],
 "metadata": {
  "kernelspec": {
   "display_name": "Python 3 (ipykernel)",
   "language": "python",
   "name": "python3"
  },
  "language_info": {
   "codemirror_mode": {
    "name": "ipython",
    "version": 3
   },
   "file_extension": ".py",
   "mimetype": "text/x-python",
   "name": "python",
   "nbconvert_exporter": "python",
   "pygments_lexer": "ipython3",
   "version": "3.9.12"
  }
 },
 "nbformat": 4,
 "nbformat_minor": 5
}
